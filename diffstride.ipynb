{
 "cells": [
  {
   "attachments": {},
   "cell_type": "markdown",
   "metadata": {},
   "source": [
    "# Source\n",
    "\n",
    "https://www.kaggle.com/code/infocusp/diffstride-explainable-notebook\n",
    "\n",
    "# Overview\n",
    "\n",
    "Mendeskripsikan intisari suatu ide dari artikel ilmiah [\"Learning strides in convolutional neural network\"](https://arxiv.org/pdf/2202.01653.pdf) bersamaan dengan beberapa ide latar belakang dan visualisasinya.\n",
    "artikel ilmiah tersebut adalah salah satu dari banyak artikel ilmiah yang menerima penghargaan [\"outstanding paper awards\"](https://blog.iclr.cc/2022/04/20/announcing-the-iclr-2022-outstanding-paper-award-recipients/) pada event ICLR 2022\n",
    "\n",
    "Dengan asumsi pembaca sudah mengenal dasar dari arsitektur CNN. Jika pembaca masih belum mengetahui mengenai dasar dari arsitektur CNN, maka dapat mempelajari melalui [materi berikut](https://cs231n.github.io/) pada event ICLR 2022\n",
    "\n",
    "# Penjelasan singkat mengenai artikel ilmiah\n",
    "\n",
    "- Arsitektur pada Model CNN umumnya memiliki beberapa tahapan downsampling yang secara progresif mengurangi resolusi dari representasi perantara dimana prosesnya akan dilanjutkan lebih dalam ke jaringan (network)\n",
    "- Tujuan dari downsampling adalah memberikan beberapa pergeseran invarian dan mengurangi jumlah komputasi yang diperlukan oleh arsitektur dan disisi lain juga mempertahankan informasi penting dari dataset original citra\n",
    "- Salah satu hyperparameter dari lapisan Convolution pada CNN yang mengontrol jumlah downsampling adalah stride. Stride pada dasarnya adalah suatu langkah ukuran (dalam arah horizontal dan vertikal) yang diterapkan di lapisan Convolution saat memutar (convolving) suatu citra\n",
    "- Sebagai contoh: stride = 1 memindahkan filter sejumlah 1 langkah dalam satu waktu saat pemutaran, stride = 2 memindahkan filter sejumlah 2 langkah dalam satu waktu saat pemutaran\n",
    "- Dikarenakan ukuran stride tidak dapat dibedakan (not differentiable), mencari konfigurasi terbaik dari suatu stride untuk layer yang berbeda membutuhkan proses _crossvalidation_ atau _discrete optimization_. Sebagai contoh pada studi kasus untuk menemukan aristektur terbaik, dengan cara mencoba berbagai macam nilai dan memilih salah satu dari berbagai nilai tersebut yang memberikan hasil yang terbaik, dimana akan menghabiskan lebih banyak waktu dalam proses training.\n",
    "\n",
    "Interpretasi visual dari strides\n",
    "\n",
    "\n",
    "![Strides_0](/asset/strides_0.jpg)\n",
    "\n",
    "![Strides_1](/asset/strides_1.jpg)\n",
    "\n",
    "![Strides_2](/asset/strides_2.jpg)\n",
    "\n",
    "[Ref: Apa yang dimaksud dengan \"stride\" pada Convolutional Neural Network](https://medium.com/machine-learning-algorithms/what-is-stride-in-convolutional-neural-network-e3b4ae9baedb)\n",
    "\n",
    "Langkah serupa pada perhitungan strides juga berlaku saat melakukan operasi pooling (pooling operation)\n",
    "\n",
    "Apakah ada cara lain untuk menentukan suatu stride yang optimal menggunakan algoritma\n",
    "optimisasi seperti _gradient descent_ (sehingga memungkinkan untuk melakukan optimisasi dengan biaya komputasi yang lebih rendah)\n",
    "\n",
    "- Jawaban dari pertanyaan tersebut adalah menggunakan Metode Diffstride. Merupakan metode yang mengenalkan teknik downsampling dengan stride yang langkah yang dapat dipelajari (learnable strides). Sebuah lapisan yang dapat dipelajari (learnable layer) yang menentukan ukuran dari _cropping mask_ (yang diimplementasikan pada representasi domain _fourier_), sehingga dapat mengubah ukuran dengan cara yang dapat dibedakan (differentiable). Cara kerja dari diffstride secara detail akan dijabarkan lebih lanjut. Namun terlebih dahulu ditampilkan hasil atau outcome dalam penggunaan diffstride terlebih dahulu.\n",
    "- Artikel ilmiah ini mendemonstrasikan efektivitas dari penggunaan DiffStride (beserta kemampuannya secara general) terhadap kasus klasifikasi citra. Hasil yang dijabarkan dari artikel ilmiah tersebut ditampilkan pada tabel dibawah. Berdasarkan pada tabel dibawah menunjukkan bahwa penerapan DiffStride pada Model Arsitektur ResNet18 mengungguli semua Teknik Downsampling dalam penerapannya pada Model Arsitektur ResNet18 standar.\n",
    "\n",
    "| Init. Strides | Strided Conv. | Spectral   | DiffStride | Strided Conv. | Spectral   | DiffStride |\n",
    "| ------------- | ------------- | ---------- | ---------- | ------------- | ---------- | ---------- |\n",
    "| (2, 2, 2)     | 91.4 ± 0.2    | 92.4 ± 0.1 | 92.5 ± 0.1 | 66.8 ± 0.2    | 73.7 ± 0.1 | 73.4 ± 0.5 |\n",
    "| (2, 2, 3)     | 90.5 ± 0.1    | 92.2 ± 0.2 | 92.8 ± 0.1 | 63.4 ± 0.5    | 73.7 ± 0.2 | 73.5 ± 0.0 |\n",
    "| (1, 3, 1)     | 90.0 ± 0.4    | 91.1 ± 0.1 | 92.4 ± 0.1 | 64.9 ± 0.5    | 70.3 ± 0.3 | 73.4 ± 0.2 |\n",
    "| (3, 1, 3)     | 85.7 ± 0.1    | 90.9 ± 0.2 | 92.4 ± 0.1 | 55.3 ± 0.8    | 69.4 ± 0.4 | 73.7 ± 0.4 |\n",
    "| (3, 1, 2)     | 86.4 ± 0.1    | 90.9 ± 0.2 | 92.3 ± 0.1 | 56.2 ± 0.3    | 69.9 ± 0.2 | 73.4 ± 0.3 |\n",
    "| (3, 2, 3)     | 82.0 ± 0.6    | 89.2 ± 0.2 | 92.3 ± 0.1 | 48.2 ± 0.2    | 66.6 ± 0.5 | 73.6 ± 0.4 |\n",
    "| **Mean Acc:** | 87.7 ± 3.4    | 91.1 ± 1.1 | 92.4 ± 0.2 | 59.1 ± 6.7    | 70.6 ± 2.6 | 73.5 ± 0.3 |\n",
    "\n",
    "# Beberapa Persyaratan\n",
    "\n",
    "Untuk memahami intisari suatu ide dibalik diffstride, penting bagi pembaca untuk memahami konsep berikut:\n",
    "\n",
    "- FFT - _Fourier Domain Representation of Image_\n",
    "- Dualitas antara _convolution_ dalam domain citra dan perkalian elemen dalam _domain fouriers_\n",
    "\n",
    "Jika sudah familiar terhadap konsep tersebut, maka bagian ini dapat di skip.\n",
    "\n",
    "# Fourier Transform\n",
    "\n",
    "Teorema Fourier menyatakan bahwa: setiap fungsi kontinu (continous function) dapat direpresentasikan sebagai penjumlahan berbobot tak terbatas (infinte weighted summation) dari gelombang sinus dan cosinus dengan frekuensi yang berbeda. Bobot (weight coefficients) dari gelombang sinus dan cosinus ini merupakan representasi domain frekuensi dari sinyal yang diberikan.\n",
    "\n",
    "Cermati kasus sinyal 1D dibawah ini.\n",
    "\n",
    "Sebagai contoh, diketahui gelombang sinus dari 2 frekuensi konstituen, membentuk sinyal yang diberikan. Kemudian pada domain waktu, sinyal campuran (mixed signal) akan direpresentasikan sebagai penambahan amplitudo dua sinyal sinusodial.\n",
    "\n",
    "Kemudian kita mengimplementasikan DFT pada sinyal campuran (mixed signal). Sehingga sebagai representasi _fourier domain_, kita akan memperoleh puncak dari frekuensi konstituen yang merepresentasikan amplitudonya dalam domain waktu.\n",
    "\n",
    "![Discrete Fourier Transform](/asset/fourier_transform.bmp)\n",
    "\n",
    "[Ref: Issac's science blog](https://isaacscienceblog.com/2017/08/13/fourier-transform/)\n",
    "\n",
    "# Discrete Fourier Transform (DFT) of images\n",
    "\n",
    "Sinyal dalam kehidupan nyata bersifat kontinu (continous) dalam periode waktu tertentu. Apa yang kita amati merupakan rangkaian variasi cahaya.\n",
    "\n",
    "Namun, saat mengkonversinya menjadi bentuk citra, ditangkap versi diskrit yang sama. Sehingga citra apa pun akan direpresentasikan sebagai array MxN dari nilai bilangan bulat.\n",
    "\n",
    "Mengkonversi sinyal diskrit seperti ini ke domain fourier memerlukan _Discrete Time Fourier Transform (DTFT)_. Namun, output dari DTFT adalah fungsi kontinu periodik dalam domain _fourier_. Sehingga untuk melakukan komputasi/merepresentasikan dalam bentuk digital, kita mengambil sampel dari representasi berkelanjutan ini. Dimana disebut sebagai _Discrete Fourier Transform (DFT)_.\n",
    "\n",
    "Sinyal _Discrete_ yang bersifat non periodik dapat didekati/diwakili (approximated/represented) dalam domain _fourier_ menggunakan koefisien DFT. Pada DFT apa yang akan kita lakukan sebenarnya adalah mencari _Discrete Time Fourier Transform Approximation_ pada interval dimana fungsi yang digunakan bersifat periodik.\n",
    "\n",
    "_Fast Fourier Transform_ adalah cara/algoritma paralel yang efisien secara komputasi untuk menghitung DFT. FFT (_Fast Fourier Transform_) merupakan inti dari kompresi citra/audio/sinyal. Merupakan salah satu algoritma yang powerful dimasa saat ini. FFT merupakan cara untuk menghitung DFT.\n",
    "\n",
    "Fourier Transform digunakan untuk menganalisis karakteristik frekuensi dari berbagai macam filter. Untuk citra, 2D _Discrete Fourier Transform (DFT)_ digunakan untuk mencari domain frekuensi. Detail terkait dengan hal tersebut dapat ditemukan pada buku yang membahas mengenai _image processing_ atau _signal processing_. Mari kita amati dengan menjalankan percobaan berikut"
   ]
  },
  {
   "cell_type": "code",
   "execution_count": 20,
   "metadata": {},
   "outputs": [
    {
     "name": "stderr",
     "output_type": "stream",
     "text": [
      "--2023-04-11 13:07:21--  https://media.geeksforgeeks.org/wp-content/uploads/20200502194121/cameraman1.png\n",
      "Resolving media.geeksforgeeks.org (media.geeksforgeeks.org)... 18.155.68.39, 18.155.68.109, 18.155.68.8, ...\n",
      "Connecting to media.geeksforgeeks.org (media.geeksforgeeks.org)|18.155.68.39|:443... connected.\n",
      "HTTP request sent, awaiting response... 416 Requested Range Not Satisfiable\n",
      "\n",
      "    The file is already fully retrieved; nothing to do.\n",
      "\n"
     ]
    }
   ],
   "source": [
    "# Making necessary imports\n",
    "\n",
    "import cv2\n",
    "import numpy as np\n",
    "from matplotlib import pyplot as plt\n",
    "\n",
    "import tensorflow as tf\n",
    "import tensorflow_datasets as tfds\n",
    "from typing import Tuple, Optional, Type, Sequence, Union\n",
    "import functools\n",
    "import os\n",
    "from absl import logging\n",
    "\n",
    "Number = Union[float, int]\n",
    "Stride = Union[Number, Tuple[Number, Number]]\n",
    "\n",
    "!wget -c https://media.geeksforgeeks.org/wp-content/uploads/20200502194121/cameraman1.png"
   ]
  },
  {
   "attachments": {},
   "cell_type": "markdown",
   "metadata": {},
   "source": [
    "# Visualizing FFT\n",
    "\n",
    "Pertama kita melakukan perhitungan DFT pada suatu citra menggunakan Algoritma FFT (keluar dari kotak opencv). DFT merupakan komponen nyata dan *imaginary* (yang direpresentasikan oleh 2 channels). Kita akan mengkomputasikan magnitude menggunakan komponen tersebut dan memplot spektrum yang dihasilkan."
   ]
  },
  {
   "cell_type": "code",
   "execution_count": 21,
   "metadata": {},
   "outputs": [
    {
     "data": {
      "text/plain": [
       "(256, 256, 2)"
      ]
     },
     "execution_count": 21,
     "metadata": {},
     "output_type": "execute_result"
    }
   ],
   "source": [
    "# Visualizing FFT\n",
    "\n",
    "img = cv2.imread('./cameraman1.png',0)\n",
    "dft = cv2.dft(np.float32(img), flags = cv2.DFT_COMPLEX_OUTPUT)\n",
    "\n",
    "# Ini merupakan praktek yang biasa digunakan \n",
    "# untuk menggeser komponen frekuensi dari rendah ke tengah\n",
    "# Hal ini berguna untuk menampilkan visualisasi yang baik\n",
    "# karena komponen frekuensi rendah akan muncul disekitar pusat\n",
    "dft_shift = np.fft.fftshift(dft)\n",
    "\n",
    "dft.shape"
   ]
  },
  {
   "cell_type": "code",
   "execution_count": 22,
   "metadata": {},
   "outputs": [
    {
     "data": {
      "image/png": "[encoded data removed]",
      "text/plain": [
       "<Figure size 432x288 with 2 Axes>"
      ]
     },
     "metadata": {},
     "output_type": "display_data"
    }
   ],
   "source": [
    "# Visualizing FFT\n",
    "\n",
    "magnitude_spectrum = np.log(cv2.magnitude(dft_shift[:,:,0],dft_shift[:,:,1]))\n",
    "plt.subplot(121),plt.imshow(img, cmap = 'gray')\n",
    "plt.title('Input Image'), plt.xticks([]), plt.yticks([])\n",
    "\n",
    "plt.subplot(122),plt.imshow(magnitude_spectrum, cmap='gray')\n",
    "plt.title('Magnitude Spectrum of FFT'), plt.xticks([]), plt.yticks([])\n",
    "plt.show()"
   ]
  },
  {
   "attachments": {},
   "cell_type": "markdown",
   "metadata": {},
   "source": [
    "# Spectral Pooling\n",
    "Inti dari FFT adalah sebagian besar konten gambar terkandung dalam bagian frekuensi rendah. Komponen frekuensi tinggi mewakili tepi dan variasi pada citra. Sehingga saat diterapkan *low pass filtering* pada suatu citra, kita mempertahankan sebagian besar informasi tetap utuh bahkan saat membuang sebagian besar konten frekuensi tinggi dan mengurangi dimensi dalam jumlah besar. Ini adalah ide dari *spectral pooling* dan digunakan dalam kompresi menggunakan langkah-langkah berikut.\n",
    "\n",
    "- Mengkonversi citra ke domain fourier menggunakan FFT\n",
    "- Mengekstrasi frekuensi rendah (terkompresi) kecil dari representasi fourier\n",
    "- Melakukan inverse FFT kembali ke domain citra (spasial).\n",
    "\n",
    "Tidak seperti spatial pooling yang membutuhkan stride dengan tipe data integer, spectral pooling hanya membutuhkan dimensi output integer. "
   ]
  },
  {
   "attachments": {},
   "cell_type": "markdown",
   "metadata": {},
   "source": [
    "# Compression process using FFT"
   ]
  },
  {
   "cell_type": "code",
   "execution_count": 23,
   "metadata": {},
   "outputs": [
    {
     "data": {
      "image/png": "[encoded data removed]",
      "text/plain": [
       "<Figure size 648x648 with 4 Axes>"
      ]
     },
     "metadata": {},
     "output_type": "display_data"
    }
   ],
   "source": [
    "rows, cols = img.shape\n",
    "crow, ccol = rows//2, cols//2\n",
    "\n",
    "# Membuat mask, dengan center square 1, dan sisa semuanya 0\n",
    "mask = np.zeros((rows, cols, 1), np.uint8)\n",
    "\n",
    "# Center square dari ukuran center_filter_size disimpan dalam 1 (white) sisanya 0 \n",
    "# Mencoba untuk wiggling center_filter_size untuk melihat tampilan idft\n",
    "center_filter_size = 30 #@param {type:\"integer\"}\n",
    "mask[crow-center_filter_size:crow+center_filter_size, ccol-center_filter_size:ccol+center_filter_size] = 1\n",
    "\n",
    "# Implementasi mask\n",
    "fshift = dft_shift * mask\n",
    "\n",
    "# Geser kembali frekuensi ke lokasi semula dan jalankan inverse DFT\n",
    "f_ishift = np.fft.ifftshift(fshift)\n",
    "img_back = cv2.idft(f_ishift)\n",
    "img_back = cv2.magnitude(img_back[:,:,0],img_back[:,:,1])\n",
    "\n",
    "plt.figure(figsize=[9,9])\n",
    "plt.subplot(221),plt.imshow(img, cmap = 'gray')\n",
    "plt.title('Input Image'), plt.xticks([]), plt.yticks([]);\n",
    "\n",
    "plt.subplot(222),plt.imshow(mask[:,:,0], cmap = 'gray')\n",
    "plt.title('Input Image'), plt.xticks([]), plt.yticks([]);\n",
    "\n",
    "plt.subplot(223),plt.imshow(np.log(cv2.magnitude(fshift[:,:,0], fshift[:,:,1])+1), cmap = 'gray')\n",
    "plt.title('Low pass filtered spectrum'), plt.xticks([]), plt.yticks([]);\n",
    "\n",
    "plt.subplot(224),plt.imshow(img_back, cmap = 'gray')\n",
    "plt.title('Low pass filtered image'), plt.xticks([]), plt.yticks([]);"
   ]
  },
  {
   "attachments": {},
   "cell_type": "markdown",
   "metadata": {},
   "source": [
    "Berdasarkan hasil observasi, hal yang menarik dari IDFT (*magnitude spectrum/low-pass-filter*) pada citra, adalah bahwa meskipun menggunakan dimensi kecil dari suatu data (60 out 256), kebanyakan informasi masih dapat diperoleh."
   ]
  },
  {
   "attachments": {},
   "cell_type": "markdown",
   "metadata": {},
   "source": [
    "# Diffstride sebagai spectral pooling tetapi dengan not fixed window size\n",
    "\n",
    "Berdasarkan pada pooling diatas, ukuran downsampling telah diperbaiki. Untuk mengatasi kasus parameter dari *searching stride*, diffstride memungkinkan spectral pooling untuk mempelajari stride melalui backpropagation.\n",
    "\n",
    "Diffstride melakukan pemotongan dalam domain *Fourier* mirip dengan pengumpulan spektral. Namun, alih-alih menggunakan *fixed bounding box*, Diffstride mempelajari ukuran kotak (*box size*) melalui *backpropagation*. Box B yang dapat dipelajari di parameterkan oleh bentuk input, smoothness factor R dan strides, W akan dipelajari alih-alih diperbaiki.\n",
    "\n",
    "Filter biasanya memiliki *short transition band*  ketika besarnya berkurang dengan halus dari 1 (passband: frequencies yang dapat melewati) ke 0 (stopband: tidak ada frekuensi yang melewati). Ini di refleksikan sebagai soft mask pada fungsi masking yang diterapkan. Ini adalah parameter desain filter klasik. R adalah *ramp softness*.\n",
    "\n",
    "Alurnya ditunjukkan pada flowchart berikut.\n",
    "\n",
    "![flowchart](/asset/flowchart.jpg)\n",
    "\n",
    "Dengan pemahaman tersebut, mari kita dalami dengan melakukan implementasi dari berbagai lapisan pooling (downsampling)."
   ]
  },
  {
   "attachments": {},
   "cell_type": "markdown",
   "metadata": {},
   "source": [
    "# Spatial Pooling\n",
    "\n",
    "Ini sama dengan pooling layer biasa (max pool/average pooling) dengan strides yang bersifat fixed upfront"
   ]
  },
  {
   "cell_type": "code",
   "execution_count": 24,
   "metadata": {},
   "outputs": [],
   "source": [
    "# Spatial pooling\n",
    "\n",
    "class SpatialPooling(tf.keras.layers.AveragePooling2D):\n",
    "    \"\"\"\n",
    "    Fixed pooling layer, computed in the spatial domain\n",
    "    \"\"\"\n",
    "\n",
    "    def __init__(self, \n",
    "                poolsize: Union[int, Tuple[int, int]] = (1, 1),\n",
    "                strides: Stride = (2, 2),\n",
    "                **kwargs):\n",
    "        super().__init__(\n",
    "            pool_size=pool_size, \n",
    "            strides=strides,\n",
    "            padding='same',\n",
    "            **kwargs\n",
    "        )"
   ]
  },
  {
   "attachments": {},
   "cell_type": "markdown",
   "metadata": {},
   "source": [
    "# Fixed Spectral Pooling\n",
    "\n",
    "- Bayangkan tensor sebagai kubus rubik, (dengan ukuran: 4x4x4). Pertimbangkan 10 kubus tersebut, maka ukuran batch = 10 dan CxHxW = 4x4x4\n",
    "- Sehingga apa yang dilakukan fungsi di bawah ini (dengan pertimbangan, lower_height=2,upper_height=3,upper_width=3):\n",
    "    - Untuk semua kubus (untuk semua poin pada batch), *stack 2 components on top of each other*:\n",
    "        - **Component 1**: Untuk seluruh kedalaman kubus, ambil baris ke 0 dan ke 1 (sampai ketinggian yang lebih rendah = 2 tidak termasuk) dan kolom ke 0, ke 1 dan ke 2 (upper_width 3 tidak termasuk) Wilayah putih diarsir pada gambar di bawah ini.\n",
    "        - **Component 2**: Untuk seluruh kedalaman kubus yang sama, ambil baris dari ketinggian atas hingga baris paling atas untuk kolom yang sama seperti sebelumnya. Wilayah merah pada gambar di bawah.\n",
    "\n",
    "Perlu diingat, walaupun setelah menumpuk komponen 1 dan 2 kubus di atas satu sama lain, berbagai kubus berbaris dengancara yang sama seperti sebelumnya (satu di depan yang lain).\n",
    "\n"
   ]
  },
  {
   "cell_type": "code",
   "execution_count": 25,
   "metadata": {},
   "outputs": [],
   "source": [
    "class FixedSpectralPooling(tf.keras.layers.Layer):\n",
    "  \"\"\"Fixed Spectral pooling layer, computed in the Fourier domain.\"\"\"\n",
    "\n",
    "  def __init__(self,\n",
    "               strides: Stride = (2.0, 2.0),\n",
    "               data_format: str = 'channels_first',\n",
    "               **kwargs):\n",
    "    \"\"\"Fixed Spectral pooling layer.\n",
    "    Args:\n",
    "      strides: Fractional strides to apply via the Fourier domain.\n",
    "      data_format: either 'channels_first' or 'channels_last'. Be aware that\n",
    "        providing the data in channels_last format will significantly increase\n",
    "        the overhead due to the need to transpose temporarily to channels_first.\n",
    "      **kwargs: Additional arguments for parent class.\n",
    "    \"\"\"\n",
    "    super().__init__(**kwargs)\n",
    "    self._channels_first = data_format == 'channels_first'\n",
    "    # Check if a single value (int or float) is given instead of a tuple. If so then convert the scalar to tuple.\n",
    "    strides = (\n",
    "        (strides, strides) if isinstance(strides, (int, float)) else strides)\n",
    "    # Converting the elements of strides tuple to float values if scalar integer or tuple of integer was supplied  \n",
    "    strides = tuple(map(float, strides))\n",
    "    self._strides = strides\n",
    "    # Restricting stride values to be greater than 1. \n",
    "    if not strides[0] >= 1 and strides[1] >= 1:\n",
    "      raise ValueError('Strides params need to be above 1, not ({}, {})'.format(\n",
    "          str(strides[0]), str(strides[1])))\n",
    "\n",
    "  def build(self, input_shape):\n",
    "    # First we ensure the input is in channels first format. \n",
    "    if self._channels_first:\n",
    "      height, width = input_shape[2], input_shape[3]\n",
    "    else:\n",
    "      height, width = input_shape[1], input_shape[2]\n",
    "    \n",
    "    # Initialising weights of the layer as constants with our stride values\n",
    "    self.strides = self.add_weight(\n",
    "        shape=(2,), # A list with 2 values/scalars\n",
    "        initializer=tf.initializers.Constant(self._strides),\n",
    "        trainable=False,\n",
    "        dtype=tf.float32,\n",
    "        name='strides')\n",
    "    # Strided_height tells how many times we made a hop in pooling over entire image height-wise \n",
    "    # (or how many times filter went from left->right in order to perform the pooling)\n",
    "    strided_height = height // self.strides[0] \n",
    "    strided_height -= strided_height % 2\n",
    "    strided_width = width // self.strides[1]\n",
    "    # The parameter 2 is the minimum to avoid collapse of the feature map.\n",
    "    strided_height = tf.math.maximum(strided_height, 2)\n",
    "    strided_width = tf.math.maximum(strided_width, 2)\n",
    "    lower_height = strided_height // 2\n",
    "    upper_height = height - lower_height\n",
    "    upper_width = strided_width // 2 + 1\n",
    "    self._output_shape = [int(strided_height), int(strided_width)]\n",
    "    self._limits = [int(lower_height), int(upper_height), int(upper_width)]\n",
    "\n",
    "\n",
    "  @staticmethod\n",
    "  def fixed_spectral_pooling(inputs: tf.Tensor,\n",
    "                            lower_height: None,\n",
    "                            upper_height: None,\n",
    "                            upper_width: None) -> Tuple[tf.Tensor]:\n",
    "    \"\"\"Fixed spectral pooling in 2D. Expects channels_first data format.\n",
    "    Args:\n",
    "    inputs: tf.Tensor<float>[batch_size, channels_in, height, width] of input\n",
    "      sequences, obtained from the tf.signal.rfft2d.\n",
    "    lower_height: Lower height limit to apply in the Fourier domain. This limit\n",
    "      represents the upper bound for the lower corner.\n",
    "    upper_height: Upper height limit to apply in the Fourier domain. This limit\n",
    "      represents the lower bound for the upper corner.\n",
    "    upper_width: Width limit to apply in the Fourier domain.\n",
    "    Returns:\n",
    "    A tf.Tensor<float>[batch_size, channels_out, height, width] containing the\n",
    "      cropped coefficients of the Fourier transform.\n",
    "    \"\"\"\n",
    "    return tf.concat([inputs[:, :, :lower_height, :upper_width],\n",
    "                      inputs[:, :, upper_height:, :upper_width]],\n",
    "                    axis=2)\n",
    "\n",
    "\n",
    "  def call(self, inputs: tf.Tensor, training: bool = False):\n",
    "    if not self._channels_first:\n",
    "      inputs = tf.transpose(inputs, (0, 3, 1, 2))\n",
    "    batch_size, input_chans = inputs.shape.as_list()[:2]\n",
    "    # Note: In the keras.leyers.Layer.__call__ runs build() first and then call() method. \n",
    "    # Hence self._limits would be available to call() as build() would have been executed \n",
    "    lh, uh, uw = self._limits\n",
    "    output_height, output_width = self._output_shape\n",
    "    # The DFT of the input is computed HERE using FFT algorithm (out of box implementation in tf.signal.rfft2d)\n",
    "    f_inputs = tf.signal.rfft2d(inputs) # See more documentation here: https://www.tensorflow.org/api_docs/python/tf/signal/rfft2d  \n",
    "    output = FixedSpectralPooling.fixed_spectral_pooling(\n",
    "        f_inputs, lower_height=lh, upper_height=uh, upper_width=uw)\n",
    "    # Getting the Inverse 2D real-valued fast Fourier transform of the output and ensuring the shape is in channels first format\n",
    "    result = tf.ensure_shape(\n",
    "        tf.signal.irfft2d(output, fft_length=[output_height, output_width]),\n",
    "        [batch_size, input_chans, output_height, output_width])\n",
    "    if not self._channels_first:\n",
    "      result = tf.transpose(result, (0, 2, 3, 1))\n",
    "    return result"
   ]
  },
  {
   "attachments": {},
   "cell_type": "markdown",
   "metadata": {},
   "source": [
    "# Diffstride: Learnable Spectral Pooling"
   ]
  },
  {
   "cell_type": "code",
   "execution_count": 26,
   "metadata": {},
   "outputs": [],
   "source": [
    "class StrideConstraint(tf.keras.constraints.Constraint):\n",
    "  \"\"\"Constraint the strides to precent them from going below 1.\n",
    "  Strides are constrained in [1,+infty) as default, because the smoothness factors\n",
    "  always leave some feature map by default. \n",
    "  \"\"\"\n",
    "\n",
    "  def __init__(self,\n",
    "               lower_limit: Optional[float] = None,\n",
    "               upper_limit: Optional[float] = None,\n",
    "               **kwargs):\n",
    "    \"\"\"Constraint strides.\n",
    "    Args:\n",
    "      lower_limit: Lower limit for the stride.\n",
    "      upper_limit: Upper limit for the stride.\n",
    "      **kwargs: Additional arguments for parent class.\n",
    "    \"\"\"\n",
    "    super().__init__(**kwargs)\n",
    "    self._lower_limit = lower_limit if lower_limit is not None else 1.0\n",
    "    self._upper_limit = (\n",
    "        upper_limit if upper_limit is not None else tf.float32.max)\n",
    "\n",
    "  def __call__(self, kernel):\n",
    "    return tf.clip_by_value(kernel, self._lower_limit, self._upper_limit)\n",
    "\n",
    "\n",
    "class DiffStride(tf.keras.layers.Layer):\n",
    "  \"\"\"Learnable Spectral pooling layer, computed in the Fourier domain.\n",
    "  The adaptive window function is inspired from\n",
    "  https://arxiv.org/pdf/1905.07799.pdf.\n",
    "  \"\"\"\n",
    "\n",
    "  def __init__(self,\n",
    "               strides: Stride = (2.0, 2.0),\n",
    "               smoothness_factor: float = 4.0,\n",
    "               cropping: bool = True,\n",
    "               trainable: bool = True,\n",
    "               shared_stride: bool = False,\n",
    "               lower_limit_stride: Optional[float] = None,\n",
    "               upper_limit_stride: Optional[float] = None,\n",
    "               data_format: str = 'channels_first',\n",
    "               **kwargs):\n",
    "    \"\"\"Learnable Spectral pooling layer.\n",
    "    Vertical and horizontal positions are the indices of the feature map. It\n",
    "    allows to selectively weight the output of the fourier transform based\n",
    "    on these positions.\n",
    "    Args:\n",
    "      strides: Fractional strides to init before learning the reduction in the\n",
    "        Fourier domain.\n",
    "      smoothness_factor: Smoothness factor to reduce/crop the input feature map\n",
    "        in the Fourier domain.\n",
    "      cropping: Boolean to specify if the layer crops or set to 0 the\n",
    "        coefficients outside the cropping window in the Fourier domain.\n",
    "      trainable: Boolean to specify if the stride is learnable.\n",
    "      shared_stride: If `True`, a single parameter is shared for vertical and\n",
    "        horizontal strides.\n",
    "      lower_limit_stride: Lower limit for the stride. It can be useful when\n",
    "        there are memory issues, it avoids the stride converge to small values.\n",
    "      upper_limit_stride: Upper limit for the stride.\n",
    "      data_format: either `channels_first` or `channels_last`. Be aware that\n",
    "        channels_last will increase the memory cost due transformation to\n",
    "        channels_first.\n",
    "      **kwargs: Additional arguments for parent class.\n",
    "    \"\"\"\n",
    "    super().__init__(**kwargs)\n",
    "    self._cropping = cropping\n",
    "    self._smoothness_factor = smoothness_factor\n",
    "    self._shared_stride = shared_stride\n",
    "    self.trainable = trainable\n",
    "    self._lower_limit_stride = lower_limit_stride\n",
    "    self._upper_limit_stride = upper_limit_stride\n",
    "    self._channels_first = data_format == 'channels_first'\n",
    "\n",
    "    # Ensures a tuple of floats.\n",
    "    strides = (\n",
    "        (strides, strides) if isinstance(strides, (int, float)) else strides)\n",
    "    strides = tuple(map(float, strides))\n",
    "    self._strides = strides\n",
    "\n",
    "  def build(self, input_shape):\n",
    "    del input_shape\n",
    "    init = self._strides[0] if self._shared_stride else self._strides\n",
    "    self.strides = self.add_weight(\n",
    "        shape=(1,) if self._shared_stride else (2,),\n",
    "        initializer=tf.initializers.Constant(init),\n",
    "        trainable=self.trainable,\n",
    "        dtype=tf.float32,\n",
    "        name='strides',\n",
    "        constraint=StrideConstraint(\n",
    "            lower_limit=self._lower_limit_stride,\n",
    "            upper_limit=self._upper_limit_stride))\n",
    "\n",
    "  @staticmethod\n",
    "  def compute_adaptive_span_mask(threshold: tf.float32,\n",
    "                               ramp_softness: tf.float32,\n",
    "                               pos: tf.Tensor) -> tf.Tensor:\n",
    "    \"\"\" Computes adaptive span mask to be used for building horizontal and vertical\n",
    "    masks in DiffStride \n",
    "    Args:\n",
    "      threshold: Threshold that starts the ramp.\n",
    "      ramp_softness: Smoothness of the ramp. \n",
    "      pos: Position indices.\n",
    "    Returns:\n",
    "    A tf.Tensor<tf.complex64> containing the\n",
    "    thresholdings for the mask with the same size of pos.\n",
    "    \"\"\"\n",
    "    output = (1.0 / ramp_softness) * (ramp_softness + threshold - pos)\n",
    "    # Scaling the output between 0 to 1 by tf.clip_by_value (all values < 0 will be 0 and > 1 will be 1. Rest in the range [0,1]are kept  as is) \n",
    "    return tf.cast(tf.clip_by_value(output, 0.0, 1.0), dtype=tf.complex64)\n",
    "  \n",
    "  def call(self, inputs: tf.Tensor, training: bool = False):\n",
    "    if not self._channels_first:\n",
    "      inputs = tf.transpose(inputs, (0, 3, 1, 2))\n",
    "    batch_size, channels = inputs.shape.as_list()[:2]\n",
    "    height, width = tf.shape(inputs)[2], tf.shape(inputs)[3]\n",
    "\n",
    "    horizontal_positions = tf.range(width // 2 + 1, dtype=tf.float32)\n",
    "    vertical_positions = tf.range(\n",
    "        height // 2 + height % 2, dtype=tf.float32)\n",
    "    vertical_positions = tf.concat([\n",
    "        tf.reverse(vertical_positions[(height % 2):], axis=[0]),\n",
    "        vertical_positions], axis=0)\n",
    "    # This clipping by .assign is performed to allow gradient to flow,\n",
    "    # even when the stride becomes too small, i.e. close to 1.\n",
    "    min_vertical_stride = tf.cast(height, tf.float32) / (\n",
    "        tf.cast(height, tf.float32) - self._smoothness_factor)\n",
    "    min_horizontal_stride = tf.cast(width, tf.float32) / (\n",
    "        tf.cast(width, tf.float32) - self._smoothness_factor)\n",
    "    if self._shared_stride:\n",
    "      min_stride = tf.math.maximum(min_vertical_stride, min_horizontal_stride)\n",
    "      self.strides[0].assign(tf.math.maximum(self.strides[0], min_stride))\n",
    "      vertical_stride, horizontal_stride = self.strides[0], self.strides[0]\n",
    "    else:\n",
    "      self.strides[0].assign(\n",
    "          tf.math.maximum(self.strides[0], min_vertical_stride))\n",
    "      self.strides[1].assign(\n",
    "          tf.math.maximum(self.strides[1], min_horizontal_stride))\n",
    "      vertical_stride, horizontal_stride = self.strides[0], self.strides[1]\n",
    "\n",
    "    # Explicitly calls the stride constraints on strides.\n",
    "    vertical_stride = self.strides.constraint(vertical_stride)\n",
    "    horizontal_stride = self.strides.constraint(horizontal_stride)\n",
    "\n",
    "    strided_height = tf.cast(height, tf.float32) / vertical_stride\n",
    "    strided_width = tf.cast(width, tf.float32) / horizontal_stride\n",
    "    # Warning: Little discrepancy for the init of strided_height with\n",
    "    #   FixedSpectralPooling. As the gradient of the operation below is 0, it\n",
    "    #   is removed for DiffStride.\n",
    "    # strided_height = strided_height - tf.math.floormod(strided_height, 2)\n",
    "    # The parameter 2 is the minimum to avoid collapse of the feature map.\n",
    "    strided_height = tf.math.maximum(strided_height, 2.0)\n",
    "    strided_width = tf.math.maximum(strided_width, 2.0)\n",
    "    lower_height = strided_height / 2.0\n",
    "    upper_width = strided_width / 2.0 + 1.0\n",
    "\n",
    "    f_inputs = tf.signal.rfft2d(inputs)\n",
    "    horizontal_mask = DiffStride.compute_adaptive_span_mask(\n",
    "        upper_width, self._smoothness_factor, horizontal_positions)\n",
    "    vertical_mask = DiffStride.compute_adaptive_span_mask(\n",
    "        lower_height, self._smoothness_factor, vertical_positions)\n",
    "\n",
    "    vertical_mask = tf.signal.fftshift(vertical_mask)\n",
    "    output = f_inputs * horizontal_mask[None, None, None, :]\n",
    "    output = output * vertical_mask[None, None, :, None]\n",
    "    if self._cropping:\n",
    "      horizontal_to_keep = tf.stop_gradient(\n",
    "          tf.where(tf.cast(horizontal_mask, tf.float32) > 0.)[:, 0])\n",
    "      vertical_to_keep = tf.stop_gradient(\n",
    "          tf.where(tf.cast(vertical_mask, tf.float32) > 0.)[:, 0])\n",
    "\n",
    "      output = tf.gather(output, indices=vertical_to_keep, axis=2)\n",
    "      output = tf.gather(output, indices=horizontal_to_keep, axis=3)\n",
    "\n",
    "    result = tf.ensure_shape(\n",
    "        tf.signal.irfft2d(output), [batch_size, channels, None, None])\n",
    "    if not self._channels_first:\n",
    "      result = tf.transpose(result, (0, 2, 3, 1))\n",
    "    return result"
   ]
  },
  {
   "attachments": {},
   "cell_type": "markdown",
   "metadata": {},
   "source": [
    "Sekarang kita sudah memiliki class pooling yang sudah siap, mari kita definisikan arsitektur Model CNN yang akan kita training. Artikel ilmiah ini menggunakan Arsitektur ResNet yang dideskripsikan dibawah."
   ]
  },
  {
   "attachments": {},
   "cell_type": "markdown",
   "metadata": {},
   "source": [
    "# Arsitektur ResNet\n",
    "\n",
    "## Building blocks: Residual connections\n",
    "Pada neural network *feedforward* tradisional, data mengalir melalui setiap lapisan secara berurutan: Keluaran dari suatu lapisan adalah masukan untuk lapisan berikutnya.\n",
    "\n",
    "*Residual connection* menyediakan jalur lain bagi data untuk mencapai bagian akhir jaringan saraf dengan melewatkan beberapa lapisan. Pertimbangkan urutan lapisan, lapisan i ke lapisan i + n, dan biarkan F menjadi fungsi yang diwakili oleh lapisan-lapisan ini. Nyatakan input untuk layer i dengan x. Dalam pengaturan tradisional *feedforward*, x hanya akan menelusuri lapisan-lapisan ini satu per satu, dan hasil dari lapisan i + n adalah f(x). Sambungan residual yang melewati lapisan ini biasanya berfungsi sebagai berikut:\n",
    "\n",
    "![resnet architecture](/asset/resnet_architecture.jpg)\n",
    "\n",
    "[Ref](https://towardsdatascience.com/what-is-residual-connection-efb07cab0d55)\n",
    "\n",
    "Sebuah blok resnet seperti diatas terdiri dari lapisan dengan sisa sambungan adalah blok bangunan utama dalam arsitektur resnet.\n",
    "\n",
    "*Vanilla Resnet18*\n",
    "\n",
    "Arsitektur ResNet18 didefinisikan menggunakan blok resnet sesuai dengan gambar dibawah ini.\n",
    "\n",
    "![resnet architecture](/asset/resnet_block.jpg)\n",
    "- Setiap blok berwarna dalam gambar/arsitektur merujuk ke objek kelas ResnetBlock dalam kode program.\n",
    "- Oleh karena itu, karena ada 4 blok seperti itu, for loop di dalam Resnet menambahkan 4 blok ResnetBlock sambil melakukan iterasi dari 1: over zip (filters, strides) yang merupakan daftar dengan panjang 5.\n",
    "\n",
    "Fungsi Util"
   ]
  },
  {
   "cell_type": "code",
   "execution_count": 27,
   "metadata": {},
   "outputs": [],
   "source": [
    "def conv2d(\n",
    "    *args, channels_first: bool = True, weight_decay: float = 0.0, **kwargs):\n",
    "  \"\"\"Function defining the convolutional layer.\n",
    "  Args:\n",
    "    channels_first: Boolean if the input data is in channels_first format\n",
    "    weight_decay: Weight decay strategy/rate to be adopted for regularization\n",
    "\n",
    "  Returns:\n",
    "    Returns an initialised Conv2D 'tf.keras.layers' layer with necessary hyperparameters passed to the input arguments.\n",
    "  \"\"\"\n",
    "  return tf.keras.layers.Conv2D(\n",
    "      *args,\n",
    "      kernel_initializer='he_normal',\n",
    "      kernel_regularizer=tf.keras.regularizers.L2(weight_decay),\n",
    "      data_format=data_format(channels_first),\n",
    "      use_bias=False,\n",
    "      **kwargs)\n",
    "\n",
    "def batch_norm(channels_first: bool = True, momentum=0.9, epsilon=1e-5):\n",
    "  axis = 1 if channels_first else 3\n",
    "  return tf.keras.layers.BatchNormalization(axis=axis)\n",
    "\n",
    "def data_format(channels_first: bool = True) -> str:\n",
    "  return 'channels_first' if channels_first else 'channels_last'"
   ]
  },
  {
   "cell_type": "code",
   "execution_count": 28,
   "metadata": {},
   "outputs": [],
   "source": [
    "# @title Generic Residual Layer\n",
    "\n",
    "class ResidualLayer(tf.keras.layers.Layer):\n",
    "  \"\"\"A generic residual layer for Resnet, using the pre-act formulation.\n",
    "  This resnet can represent an `IdBlock` or a `ProjBlock` by setting the\n",
    "  `project` parameter and can be compatible with Spectral or Learnable poolings\n",
    "  by setting the `pooling_cls` parameter.\n",
    "  The pooling_cls and strides will be overwritten automatically in case of an\n",
    "  ID block.\n",
    "  The pre-act formulation applies batch norm and non-linearity before the first\n",
    "  conv.\n",
    "  \"\"\"\n",
    "\n",
    "  def __init__(self,\n",
    "               filters: int,\n",
    "               kernel_size: int,\n",
    "               strides: Stride = (1, 1),\n",
    "               pooling_cls=None,\n",
    "               project: bool = False,\n",
    "               channels_first: bool = True,\n",
    "               weight_decay: float = 5e-3,\n",
    "               **kwargs):\n",
    "    super().__init__(**kwargs)\n",
    "\n",
    "    # If we are in an Id Layer there is no striding of any kind.\n",
    "    pooling_cls = None if not project else pooling_cls\n",
    "    strides = (1, 1) if not project else strides\n",
    "    # DiffStride compatibility: the strides go into the pooling layer.\n",
    "    if pooling_cls is not None:\n",
    "      conv_strides = (1, 1)\n",
    "      self._pooling = pooling_cls(\n",
    "          strides=strides, data_format=data_format(channels_first))\n",
    "    else:\n",
    "      self._pooling = tf.identity\n",
    "      conv_strides = strides\n",
    "\n",
    "    self._strided_conv = conv2d(\n",
    "        filters, kernel_size, strides=conv_strides, padding='same',\n",
    "        channels_first=channels_first, weight_decay=weight_decay)\n",
    "\n",
    "    # The second convolution is a regular one with no strides, no matter what.\n",
    "    self._unstrided_conv = conv2d(\n",
    "        filters, kernel_size, strides=(1, 1), padding='same',\n",
    "        channels_first=channels_first, weight_decay=weight_decay)\n",
    "    self._bns = tuple(batch_norm(channels_first) for _ in range(2))\n",
    "\n",
    "    self._shortcut_conv = None\n",
    "    if project:\n",
    "      self._shortcut_conv = conv2d(\n",
    "          filters, kernel_size=1, strides=conv_strides, padding='same',\n",
    "          channels_first=channels_first, weight_decay=weight_decay)\n",
    "\n",
    "  def call(self, inputs: tf.Tensor, training: bool = True) -> tf.Tensor:\n",
    "    shortcut_x = inputs\n",
    "\n",
    "    x = self._bns[0](inputs, training=training)\n",
    "    x = tf.nn.relu(x)\n",
    "    x = self._strided_conv(x)\n",
    "    x = self._pooling(x)\n",
    "\n",
    "    x = self._bns[1](x, training=training)\n",
    "    x = tf.nn.relu(x)\n",
    "    x = self._unstrided_conv(x)\n",
    "\n",
    "    if self._shortcut_conv is not None:\n",
    "      shortcut_x = self._shortcut_conv(shortcut_x)\n",
    "      shortcut_x = self._pooling(shortcut_x)\n",
    "\n",
    "    return x + shortcut_x"
   ]
  },
  {
   "attachments": {},
   "cell_type": "markdown",
   "metadata": {},
   "source": [
    "**Resnet Block**"
   ]
  },
  {
   "cell_type": "code",
   "execution_count": 29,
   "metadata": {},
   "outputs": [],
   "source": [
    "class ResnetBlock(tf.keras.Sequential):\n",
    "  \"\"\"A block of residual layers sharing the same number of filters.\n",
    "  The first residual layer of the block and only this one might be strided.\n",
    "  This parameter is controlled by the `project_first` parameters.\n",
    "  The kwargs are passed down to the ResidualLayer.\n",
    "  \n",
    "  Attributes:\n",
    "    filters: Number of concolutional filters to be used\n",
    "    strides: Stride value for the filter\n",
    "    num_layers: Number of layers\n",
    "    project_first: Wether to project\n",
    "  \"\"\"\n",
    "\n",
    "  def __init__(self,\n",
    "               filters: int,\n",
    "               strides: Stride,\n",
    "               num_layers: int = 2,\n",
    "               project_first: bool = True,\n",
    "               **kwargs):\n",
    "    residual_fn = functools.partial(\n",
    "        ResidualLayer, filters=filters, strides=strides, **kwargs)\n",
    "    blocks = [residual_fn(project=True)] if project_first else []\n",
    "    num_left_layers = num_layers - int(project_first)\n",
    "    blocks.extend([residual_fn(project=False) for i in range(num_left_layers)])\n",
    "    super().__init__(blocks)"
   ]
  },
  {
   "attachments": {},
   "cell_type": "markdown",
   "metadata": {},
   "source": [
    "Complete resnet architecture class"
   ]
  },
  {
   "cell_type": "code",
   "execution_count": 30,
   "metadata": {},
   "outputs": [],
   "source": [
    "class Resnet(tf.keras.Sequential):\n",
    "  \"\"\"A generic Resnet class, using the pre-activation implementation.\n",
    "  Depending on the number of blocks and the used filters, it can easily\n",
    "  instantiate a Resnet18 or Resnet56.\n",
    "  The kwargs are passed down to the ResnetBlock layer.\n",
    "  \"\"\"\n",
    "\n",
    "  def __init__(self,\n",
    "               filters: Sequence[int],\n",
    "               strides: Sequence[Stride],\n",
    "               num_output_classes: int,\n",
    "               output_activation: Optional[str] = 'softmax',\n",
    "               id_only: Sequence[int] = (),\n",
    "               channels_first: bool = True,\n",
    "               pooling_cls= DiffStride,\n",
    "               weight_decay: float = 5e-4,\n",
    "               **kwargs):\n",
    "    if len(filters) != len(strides):\n",
    "      raise ValueError(f'The number of `filters` ({len(filters)}) should match'\n",
    "                       f' the number of strides ({len(strides)})')\n",
    "    df = data_format(channels_first) # Gets the dataformat. Passed later as an arg to the pooling cls\n",
    "    # layers is a list of layers. Initiate with 3 layers first. \n",
    "    '''1. Permute Layer with given pattern as 3,1,2)\n",
    "       2. Conv2D layer\n",
    "       3. DiffStride layer\n",
    "    '''\n",
    "    layers = [tf.keras.layers.Permute((3, 1, 2)) if channels_first else None, \n",
    "              conv2d(filters[0], 3, padding='same',strides=(1, 1) if pooling_cls is not None else strides[0], channels_first=channels_first, weight_decay=weight_decay),\n",
    "              pooling_cls(strides=strides[0], data_format=df) if pooling_cls else None,] \n",
    "    # Then we keep appending resnetblocks to the layers list. \n",
    "    for i, (num_filters, stride) in enumerate(zip(filters[1:], strides[1:])): # QUESTION: Why does it start from 1: and not 0: <---> Ans: We already have a conv2d with filter[0] and stride (1,1)\n",
    "      layers.append(ResnetBlock(filters=num_filters,\n",
    "                                strides=stride,\n",
    "                                project_first=(i not in id_only),\n",
    "                                channels_first=channels_first,\n",
    "                                weight_decay=weight_decay,\n",
    "                                pooling_cls=pooling_cls,\n",
    "                                **kwargs))\n",
    "    # We add few more layers to the layers list at the last! \n",
    "    layers.extend([\n",
    "        batch_norm(channels_first),\n",
    "        tf.keras.layers.ReLU(),\n",
    "        tf.keras.layers.GlobalAveragePooling2D(data_format=df),\n",
    "        tf.keras.layers.Flatten(),\n",
    "        tf.keras.layers.Dense(\n",
    "            num_output_classes,\n",
    "            activation=output_activation,\n",
    "            kernel_initializer='he_normal',\n",
    "            kernel_regularizer=tf.keras.regularizers.L2(weight_decay),\n",
    "            bias_regularizer=tf.keras.regularizers.L2(weight_decay),\n",
    "            ),\n",
    "        ])\n",
    "    # Removing all the None values from the \n",
    "    super().__init__(list(filter(None, layers)))"
   ]
  },
  {
   "attachments": {},
   "cell_type": "markdown",
   "metadata": {},
   "source": [
    "Coba inisialisasi yang berbeda misalnya 1,1,2,2,2 dan amati bagaimana hasil invarian dari inisialisasi langkah"
   ]
  },
  {
   "cell_type": "code",
   "execution_count": 31,
   "metadata": {},
   "outputs": [],
   "source": [
    "def resnet18(strides=None, **kwargs):\n",
    "  strides = [1, 1, 3, 2, 3] if strides is None else strides\n",
    "  filters = [64, 64, 128, 256, 512]\n",
    "  return Resnet(\n",
    "      filters, strides, id_only=[0], num_layers=2, kernel_size=3, **kwargs)"
   ]
  },
  {
   "attachments": {},
   "cell_type": "markdown",
   "metadata": {},
   "source": [
    "# Training\n",
    "\n",
    "Workdir perlu disebutkan. Harus berupa lokasi di VM tempat notebook collab berada.\n",
    "\n",
    "# Dataset Loading\n",
    "\n",
    "Mendefinisikan method untuk loading, manipulating dataset dan mengembalikan hasil dari train-test splits."
   ]
  },
  {
   "cell_type": "code",
   "execution_count": 32,
   "metadata": {},
   "outputs": [],
   "source": [
    "def convert(image: tf.Tensor) -> tf.Tensor:\n",
    "  mean = tf.constant([[[0.4914, 0.4822, 0.4465]]])\n",
    "  std = tf.constant([[[0.2023, 0.1994, 0.2010]]])\n",
    "  image = tf.cast(image, tf.float32) / tf.uint8.max\n",
    "  return (image - mean) / std\n",
    "\n",
    "def augment(image: tf.Tensor, pad_size: int = 2) -> tf.Tensor:\n",
    "  \"\"\"Data augmentation: Random shifts and flips.\"\"\"\n",
    "  shape = image.shape\n",
    "  height, width = shape[:2]\n",
    "  image = tf.image.pad_to_bounding_box(image, pad_size, pad_size,\n",
    "                                       height + 2 * pad_size,\n",
    "                                       width + 2 * pad_size)\n",
    "  image = tf.image.random_crop(image, shape)\n",
    "  image = tf.image.random_flip_left_right(image)\n",
    "  return \n",
    "\n",
    "def sample_beta_distribution(size: int,\n",
    "                             concentration_0: float = 0.2,\n",
    "                             concentration_1: float = 0.2) -> tf.Tensor:\n",
    "  \"\"\"Samples from a beta distribution.\"\"\"\n",
    "  gamma_1_sample = tf.random.gamma(shape=[size], alpha=concentration_1)\n",
    "  gamma_2_sample = tf.random.gamma(shape=[size], alpha=concentration_0)\n",
    "  return gamma_1_sample / (gamma_1_sample + gamma_2_sample)"
   ]
  },
  {
   "attachments": {},
   "cell_type": "markdown",
   "metadata": {},
   "source": [
    "# TF train and test dataset"
   ]
  },
  {
   "cell_type": "code",
   "execution_count": 33,
   "metadata": {},
   "outputs": [],
   "source": [
    "def prepare(ds: tf.data.Dataset,\n",
    "            num_classes: int,\n",
    "            batch_size: int = 32,\n",
    "            training: bool = True,\n",
    "            augment_fn=augment) -> tf.data.Dataset:\n",
    "  \"\"\"Prepares a dataset for train/test.\"\"\"\n",
    "  def transform(\n",
    "      image: tf.Tensor, label: tf.Tensor) -> Tuple[tf.Tensor, tf.Tensor]:\n",
    "    image = convert(image)\n",
    "    if training and augment_fn is not None:\n",
    "      image = augment_fn(image)\n",
    "    label = tf.one_hot(label, depth=num_classes)\n",
    "    return image, label\n",
    "\n",
    "  ds = ds.map(transform, num_parallel_calls=tf.data.AUTOTUNE)\n",
    "  if training:\n",
    "    ds = ds.shuffle(1000)\n",
    "  ds = ds.batch(batch_size, drop_remainder=training)\n",
    "  ds = ds.prefetch(tf.data.AUTOTUNE)\n",
    "  return ds\n",
    "\n",
    "def load_datasets(name: str = 'cifar10',\n",
    "                  batch_size: int = 32,\n",
    "                  augment_fn=None):\n",
    "  \"\"\"Loads a tf.Dataset corresponding to the given name.\"\"\"\n",
    "  datasets, info = tfds.load(name, as_supervised=True, with_info=True)\n",
    "  _, label_key = info.supervised_keys\n",
    "  num_classes = info.features[label_key].num_classes\n",
    "  # Prepare the train split\n",
    "  ds_train = prepare(\n",
    "      datasets['train'],\n",
    "      num_classes=num_classes,\n",
    "      batch_size=batch_size,\n",
    "      training=True,\n",
    "      augment_fn=augment_fn)\n",
    "  # Prepare the test split\n",
    "  ds_test = prepare(\n",
    "      datasets['test'],\n",
    "      num_classes=num_classes,\n",
    "      batch_size=batch_size,\n",
    "      training=False,\n",
    "      augment_fn=None)\n",
    "  return ds_train, ds_test, num_classes"
   ]
  },
  {
   "cell_type": "code",
   "execution_count": 34,
   "metadata": {},
   "outputs": [
    {
     "data": {
      "text/plain": [
       "(<_PrefetchDataset element_spec=(TensorSpec(shape=(128, 32, 32, 3), dtype=tf.float32, name=None), TensorSpec(shape=(128, 10), dtype=tf.float32, name=None))>,\n",
       " <_PrefetchDataset element_spec=(TensorSpec(shape=(None, 32, 32, 3), dtype=tf.float32, name=None), TensorSpec(shape=(None, 10), dtype=tf.float32, name=None))>,\n",
       " 10)"
      ]
     },
     "execution_count": 34,
     "metadata": {},
     "output_type": "execute_result"
    }
   ],
   "source": [
    "load_datasets(name ='cifar10',batch_size = 128)"
   ]
  },
  {
   "attachments": {},
   "cell_type": "markdown",
   "metadata": {},
   "source": [
    "# Training: mengolah GPU"
   ]
  },
  {
   "cell_type": "code",
   "execution_count": 35,
   "metadata": {},
   "outputs": [],
   "source": [
    "def train(load_data_fn,\n",
    "          model_cls: Type[tf.keras.Model],\n",
    "          optimizer_cls: Type[tf.keras.optimizers.Optimizer],\n",
    "          num_epochs: int = 200,\n",
    "          workdir: Optional[str] = '/tmp/diffstride/') -> tf.keras.Model:\n",
    "  \"\"\"Runs the training using keras .fit way.\"\"\"\n",
    "  train_ds, test_ds, num_classes = load_data_fn()\n",
    "\n",
    "  model = model_cls(\n",
    "      num_output_classes=num_classes,\n",
    "      channels_first=bool(tf.config.list_physical_devices('GPU')))\n",
    "  model.compile(optimizer=optimizer_cls,\n",
    "                loss=tf.keras.losses.CategoricalCrossentropy(),\n",
    "                metrics=[tf.keras.metrics.CategoricalAccuracy()])\n",
    "\n",
    "  callbacks = []\n",
    "  if workdir is not None:\n",
    "    callbacks.extend([\n",
    "        tf.keras.callbacks.TensorBoard(\n",
    "            log_dir=workdir, write_steps_per_second=True),\n",
    "        tf.keras.callbacks.ModelCheckpoint(\n",
    "            filepath=os.path.join(workdir, 'ckpts')),\n",
    "        tf.keras.callbacks.experimental.BackupAndRestore(\n",
    "            backup_dir=os.path.join(workdir, 'backup'))\n",
    "    ])\n",
    "  model.fit(train_ds, validation_data=test_ds,\n",
    "            epochs=num_epochs, callbacks=callbacks)\n",
    "  return model"
   ]
  },
  {
   "cell_type": "code",
   "execution_count": 36,
   "metadata": {},
   "outputs": [],
   "source": [
    "pcd = tf.keras.optimizers.schedules.PiecewiseConstantDecay(boundaries=[400, 18_000, 32_000],values=[0.01, 0.1, 0.01, 0.001])\n",
    "opt = tf.keras.optimizers.SGD(learning_rate=pcd, momentum = 0.9)"
   ]
  },
  {
   "attachments": {},
   "cell_type": "markdown",
   "metadata": {},
   "source": [
    "Model checkpoints di bagian data adalah untuk inisialisasi dua langkah ([1,1,3,2,3] dan [1,1,2,2,2]) pada epoch ke-40 dari training model, dimana kedua model ini mengungguli Model Standar ResNet18 pada Dataset Cifar10.\n",
    "\n",
    "Menjalankan training menggunakan GPU. Menggunakan accelerator GPU untuk menjalankan sel berikutnya"
   ]
  },
  {
   "attachments": {},
   "cell_type": "markdown",
   "metadata": {},
   "source": [
    "contoh proses training untuk satu epoch"
   ]
  },
  {
   "cell_type": "code",
   "execution_count": 37,
   "metadata": {},
   "outputs": [
    {
     "name": "stdout",
     "output_type": "stream",
     "text": [
      "WARNING:tensorflow:`tf.keras.callbacks.experimental.BackupAndRestore` endpoint is deprecated and will be removed in a future release. Please use `tf.keras.callbacks.BackupAndRestore`.\n"
     ]
    },
    {
     "name": "stderr",
     "output_type": "stream",
     "text": [
      "WARNING:tensorflow:`tf.keras.callbacks.experimental.BackupAndRestore` endpoint is deprecated and will be removed in a future release. Please use `tf.keras.callbacks.BackupAndRestore`.\n"
     ]
    },
    {
     "name": "stdout",
     "output_type": "stream",
     "text": [
      "WARNING:tensorflow:You are casting an input of type complex64 to an incompatible dtype float32.  This will discard the imaginary part and may not be what you intended.\n"
     ]
    },
    {
     "name": "stderr",
     "output_type": "stream",
     "text": [
      "WARNING:tensorflow:You are casting an input of type complex64 to an incompatible dtype float32.  This will discard the imaginary part and may not be what you intended.\n"
     ]
    },
    {
     "name": "stdout",
     "output_type": "stream",
     "text": [
      "WARNING:tensorflow:You are casting an input of type complex64 to an incompatible dtype float32.  This will discard the imaginary part and may not be what you intended.\n"
     ]
    },
    {
     "name": "stderr",
     "output_type": "stream",
     "text": [
      "WARNING:tensorflow:You are casting an input of type complex64 to an incompatible dtype float32.  This will discard the imaginary part and may not be what you intended.\n"
     ]
    },
    {
     "name": "stdout",
     "output_type": "stream",
     "text": [
      "WARNING:tensorflow:You are casting an input of type complex64 to an incompatible dtype float32.  This will discard the imaginary part and may not be what you intended.\n"
     ]
    },
    {
     "name": "stderr",
     "output_type": "stream",
     "text": [
      "WARNING:tensorflow:You are casting an input of type complex64 to an incompatible dtype float32.  This will discard the imaginary part and may not be what you intended.\n"
     ]
    },
    {
     "name": "stdout",
     "output_type": "stream",
     "text": [
      "WARNING:tensorflow:You are casting an input of type complex64 to an incompatible dtype float32.  This will discard the imaginary part and may not be what you intended.\n"
     ]
    },
    {
     "name": "stderr",
     "output_type": "stream",
     "text": [
      "WARNING:tensorflow:You are casting an input of type complex64 to an incompatible dtype float32.  This will discard the imaginary part and may not be what you intended.\n"
     ]
    },
    {
     "name": "stdout",
     "output_type": "stream",
     "text": [
      "WARNING:tensorflow:You are casting an input of type complex64 to an incompatible dtype float32.  This will discard the imaginary part and may not be what you intended.\n"
     ]
    },
    {
     "name": "stderr",
     "output_type": "stream",
     "text": [
      "WARNING:tensorflow:You are casting an input of type complex64 to an incompatible dtype float32.  This will discard the imaginary part and may not be what you intended.\n"
     ]
    },
    {
     "name": "stdout",
     "output_type": "stream",
     "text": [
      "WARNING:tensorflow:You are casting an input of type complex64 to an incompatible dtype float32.  This will discard the imaginary part and may not be what you intended.\n"
     ]
    },
    {
     "name": "stderr",
     "output_type": "stream",
     "text": [
      "WARNING:tensorflow:You are casting an input of type complex64 to an incompatible dtype float32.  This will discard the imaginary part and may not be what you intended.\n"
     ]
    },
    {
     "name": "stdout",
     "output_type": "stream",
     "text": [
      "WARNING:tensorflow:You are casting an input of type complex64 to an incompatible dtype float32.  This will discard the imaginary part and may not be what you intended.\n"
     ]
    },
    {
     "name": "stderr",
     "output_type": "stream",
     "text": [
      "WARNING:tensorflow:You are casting an input of type complex64 to an incompatible dtype float32.  This will discard the imaginary part and may not be what you intended.\n"
     ]
    },
    {
     "name": "stdout",
     "output_type": "stream",
     "text": [
      "WARNING:tensorflow:You are casting an input of type complex64 to an incompatible dtype float32.  This will discard the imaginary part and may not be what you intended.\n"
     ]
    },
    {
     "name": "stderr",
     "output_type": "stream",
     "text": [
      "WARNING:tensorflow:You are casting an input of type complex64 to an incompatible dtype float32.  This will discard the imaginary part and may not be what you intended.\n"
     ]
    },
    {
     "name": "stdout",
     "output_type": "stream",
     "text": [
      "WARNING:tensorflow:You are casting an input of type complex64 to an incompatible dtype float32.  This will discard the imaginary part and may not be what you intended.\n"
     ]
    },
    {
     "name": "stderr",
     "output_type": "stream",
     "text": [
      "WARNING:tensorflow:You are casting an input of type complex64 to an incompatible dtype float32.  This will discard the imaginary part and may not be what you intended.\n"
     ]
    },
    {
     "name": "stdout",
     "output_type": "stream",
     "text": [
      "WARNING:tensorflow:You are casting an input of type complex64 to an incompatible dtype float32.  This will discard the imaginary part and may not be what you intended.\n"
     ]
    },
    {
     "name": "stderr",
     "output_type": "stream",
     "text": [
      "WARNING:tensorflow:You are casting an input of type complex64 to an incompatible dtype float32.  This will discard the imaginary part and may not be what you intended.\n"
     ]
    },
    {
     "name": "stdout",
     "output_type": "stream",
     "text": [
      "WARNING:tensorflow:You are casting an input of type complex64 to an incompatible dtype float32.  This will discard the imaginary part and may not be what you intended.\n"
     ]
    },
    {
     "name": "stderr",
     "output_type": "stream",
     "text": [
      "WARNING:tensorflow:You are casting an input of type complex64 to an incompatible dtype float32.  This will discard the imaginary part and may not be what you intended.\n"
     ]
    },
    {
     "name": "stdout",
     "output_type": "stream",
     "text": [
      "WARNING:tensorflow:You are casting an input of type complex64 to an incompatible dtype float32.  This will discard the imaginary part and may not be what you intended.\n"
     ]
    },
    {
     "name": "stderr",
     "output_type": "stream",
     "text": [
      "WARNING:tensorflow:You are casting an input of type complex64 to an incompatible dtype float32.  This will discard the imaginary part and may not be what you intended.\n"
     ]
    },
    {
     "name": "stdout",
     "output_type": "stream",
     "text": [
      "WARNING:tensorflow:You are casting an input of type complex64 to an incompatible dtype float32.  This will discard the imaginary part and may not be what you intended.\n"
     ]
    },
    {
     "name": "stderr",
     "output_type": "stream",
     "text": [
      "WARNING:tensorflow:You are casting an input of type complex64 to an incompatible dtype float32.  This will discard the imaginary part and may not be what you intended.\n"
     ]
    },
    {
     "name": "stdout",
     "output_type": "stream",
     "text": [
      "WARNING:tensorflow:You are casting an input of type complex64 to an incompatible dtype float32.  This will discard the imaginary part and may not be what you intended.\n"
     ]
    },
    {
     "name": "stderr",
     "output_type": "stream",
     "text": [
      "WARNING:tensorflow:You are casting an input of type complex64 to an incompatible dtype float32.  This will discard the imaginary part and may not be what you intended.\n"
     ]
    },
    {
     "name": "stdout",
     "output_type": "stream",
     "text": [
      "WARNING:tensorflow:You are casting an input of type complex64 to an incompatible dtype float32.  This will discard the imaginary part and may not be what you intended.\n"
     ]
    },
    {
     "name": "stderr",
     "output_type": "stream",
     "text": [
      "WARNING:tensorflow:You are casting an input of type complex64 to an incompatible dtype float32.  This will discard the imaginary part and may not be what you intended.\n"
     ]
    },
    {
     "name": "stdout",
     "output_type": "stream",
     "text": [
      "WARNING:tensorflow:You are casting an input of type complex64 to an incompatible dtype float32.  This will discard the imaginary part and may not be what you intended.\n"
     ]
    },
    {
     "name": "stderr",
     "output_type": "stream",
     "text": [
      "WARNING:tensorflow:You are casting an input of type complex64 to an incompatible dtype float32.  This will discard the imaginary part and may not be what you intended.\n"
     ]
    },
    {
     "name": "stdout",
     "output_type": "stream",
     "text": [
      "WARNING:tensorflow:You are casting an input of type complex64 to an incompatible dtype float32.  This will discard the imaginary part and may not be what you intended.\n"
     ]
    },
    {
     "name": "stderr",
     "output_type": "stream",
     "text": [
      "WARNING:tensorflow:You are casting an input of type complex64 to an incompatible dtype float32.  This will discard the imaginary part and may not be what you intended.\n"
     ]
    },
    {
     "name": "stdout",
     "output_type": "stream",
     "text": [
      "WARNING:tensorflow:You are casting an input of type complex64 to an incompatible dtype float32.  This will discard the imaginary part and may not be what you intended.\n"
     ]
    },
    {
     "name": "stderr",
     "output_type": "stream",
     "text": [
      "WARNING:tensorflow:You are casting an input of type complex64 to an incompatible dtype float32.  This will discard the imaginary part and may not be what you intended.\n"
     ]
    },
    {
     "name": "stdout",
     "output_type": "stream",
     "text": [
      "WARNING:tensorflow:You are casting an input of type complex64 to an incompatible dtype float32.  This will discard the imaginary part and may not be what you intended.\n"
     ]
    },
    {
     "name": "stderr",
     "output_type": "stream",
     "text": [
      "WARNING:tensorflow:You are casting an input of type complex64 to an incompatible dtype float32.  This will discard the imaginary part and may not be what you intended.\n"
     ]
    },
    {
     "name": "stdout",
     "output_type": "stream",
     "text": [
      "WARNING:tensorflow:You are casting an input of type complex64 to an incompatible dtype float32.  This will discard the imaginary part and may not be what you intended.\n"
     ]
    },
    {
     "name": "stderr",
     "output_type": "stream",
     "text": [
      "WARNING:tensorflow:You are casting an input of type complex64 to an incompatible dtype float32.  This will discard the imaginary part and may not be what you intended.\n"
     ]
    },
    {
     "name": "stdout",
     "output_type": "stream",
     "text": [
      "WARNING:tensorflow:You are casting an input of type complex64 to an incompatible dtype float32.  This will discard the imaginary part and may not be what you intended.\n"
     ]
    },
    {
     "name": "stderr",
     "output_type": "stream",
     "text": [
      "WARNING:tensorflow:You are casting an input of type complex64 to an incompatible dtype float32.  This will discard the imaginary part and may not be what you intended.\n"
     ]
    },
    {
     "name": "stdout",
     "output_type": "stream",
     "text": [
      "WARNING:tensorflow:You are casting an input of type complex64 to an incompatible dtype float32.  This will discard the imaginary part and may not be what you intended.\n"
     ]
    },
    {
     "name": "stderr",
     "output_type": "stream",
     "text": [
      "WARNING:tensorflow:You are casting an input of type complex64 to an incompatible dtype float32.  This will discard the imaginary part and may not be what you intended.\n"
     ]
    },
    {
     "name": "stdout",
     "output_type": "stream",
     "text": [
      "WARNING:tensorflow:You are casting an input of type complex64 to an incompatible dtype float32.  This will discard the imaginary part and may not be what you intended.\n"
     ]
    },
    {
     "name": "stderr",
     "output_type": "stream",
     "text": [
      "WARNING:tensorflow:You are casting an input of type complex64 to an incompatible dtype float32.  This will discard the imaginary part and may not be what you intended.\n"
     ]
    },
    {
     "name": "stdout",
     "output_type": "stream",
     "text": [
      "WARNING:tensorflow:You are casting an input of type complex64 to an incompatible dtype float32.  This will discard the imaginary part and may not be what you intended.\n"
     ]
    },
    {
     "name": "stderr",
     "output_type": "stream",
     "text": [
      "WARNING:tensorflow:You are casting an input of type complex64 to an incompatible dtype float32.  This will discard the imaginary part and may not be what you intended.\n"
     ]
    },
    {
     "name": "stdout",
     "output_type": "stream",
     "text": [
      "WARNING:tensorflow:You are casting an input of type complex64 to an incompatible dtype float32.  This will discard the imaginary part and may not be what you intended.\n"
     ]
    },
    {
     "name": "stderr",
     "output_type": "stream",
     "text": [
      "WARNING:tensorflow:You are casting an input of type complex64 to an incompatible dtype float32.  This will discard the imaginary part and may not be what you intended.\n"
     ]
    },
    {
     "name": "stdout",
     "output_type": "stream",
     "text": [
      "WARNING:tensorflow:You are casting an input of type complex64 to an incompatible dtype float32.  This will discard the imaginary part and may not be what you intended.\n"
     ]
    },
    {
     "name": "stderr",
     "output_type": "stream",
     "text": [
      "WARNING:tensorflow:You are casting an input of type complex64 to an incompatible dtype float32.  This will discard the imaginary part and may not be what you intended.\n"
     ]
    },
    {
     "name": "stdout",
     "output_type": "stream",
     "text": [
      "WARNING:tensorflow:You are casting an input of type complex64 to an incompatible dtype float32.  This will discard the imaginary part and may not be what you intended.\n"
     ]
    },
    {
     "name": "stderr",
     "output_type": "stream",
     "text": [
      "WARNING:tensorflow:You are casting an input of type complex64 to an incompatible dtype float32.  This will discard the imaginary part and may not be what you intended.\n"
     ]
    },
    {
     "name": "stdout",
     "output_type": "stream",
     "text": [
      "WARNING:tensorflow:You are casting an input of type complex64 to an incompatible dtype float32.  This will discard the imaginary part and may not be what you intended.\n"
     ]
    },
    {
     "name": "stderr",
     "output_type": "stream",
     "text": [
      "WARNING:tensorflow:You are casting an input of type complex64 to an incompatible dtype float32.  This will discard the imaginary part and may not be what you intended.\n"
     ]
    },
    {
     "name": "stdout",
     "output_type": "stream",
     "text": [
      "WARNING:tensorflow:You are casting an input of type complex64 to an incompatible dtype float32.  This will discard the imaginary part and may not be what you intended.\n"
     ]
    },
    {
     "name": "stderr",
     "output_type": "stream",
     "text": [
      "WARNING:tensorflow:You are casting an input of type complex64 to an incompatible dtype float32.  This will discard the imaginary part and may not be what you intended.\n"
     ]
    },
    {
     "name": "stdout",
     "output_type": "stream",
     "text": [
      "WARNING:tensorflow:You are casting an input of type complex64 to an incompatible dtype float32.  This will discard the imaginary part and may not be what you intended.\n"
     ]
    },
    {
     "name": "stderr",
     "output_type": "stream",
     "text": [
      "WARNING:tensorflow:You are casting an input of type complex64 to an incompatible dtype float32.  This will discard the imaginary part and may not be what you intended.\n"
     ]
    },
    {
     "name": "stdout",
     "output_type": "stream",
     "text": [
      "WARNING:tensorflow:You are casting an input of type complex64 to an incompatible dtype float32.  This will discard the imaginary part and may not be what you intended.\n"
     ]
    },
    {
     "name": "stderr",
     "output_type": "stream",
     "text": [
      "WARNING:tensorflow:You are casting an input of type complex64 to an incompatible dtype float32.  This will discard the imaginary part and may not be what you intended.\n"
     ]
    },
    {
     "name": "stdout",
     "output_type": "stream",
     "text": [
      "WARNING:tensorflow:You are casting an input of type complex64 to an incompatible dtype float32.  This will discard the imaginary part and may not be what you intended.\n"
     ]
    },
    {
     "name": "stderr",
     "output_type": "stream",
     "text": [
      "WARNING:tensorflow:You are casting an input of type complex64 to an incompatible dtype float32.  This will discard the imaginary part and may not be what you intended.\n"
     ]
    },
    {
     "name": "stdout",
     "output_type": "stream",
     "text": [
      "WARNING:tensorflow:You are casting an input of type complex64 to an incompatible dtype float32.  This will discard the imaginary part and may not be what you intended.\n"
     ]
    },
    {
     "name": "stderr",
     "output_type": "stream",
     "text": [
      "WARNING:tensorflow:You are casting an input of type complex64 to an incompatible dtype float32.  This will discard the imaginary part and may not be what you intended.\n"
     ]
    },
    {
     "name": "stdout",
     "output_type": "stream",
     "text": [
      "WARNING:tensorflow:You are casting an input of type complex64 to an incompatible dtype float32.  This will discard the imaginary part and may not be what you intended.\n"
     ]
    },
    {
     "name": "stderr",
     "output_type": "stream",
     "text": [
      "WARNING:tensorflow:You are casting an input of type complex64 to an incompatible dtype float32.  This will discard the imaginary part and may not be what you intended.\n"
     ]
    },
    {
     "name": "stdout",
     "output_type": "stream",
     "text": [
      "WARNING:tensorflow:You are casting an input of type complex64 to an incompatible dtype float32.  This will discard the imaginary part and may not be what you intended.\n"
     ]
    },
    {
     "name": "stderr",
     "output_type": "stream",
     "text": [
      "WARNING:tensorflow:You are casting an input of type complex64 to an incompatible dtype float32.  This will discard the imaginary part and may not be what you intended.\n"
     ]
    },
    {
     "name": "stdout",
     "output_type": "stream",
     "text": [
      "WARNING:tensorflow:You are casting an input of type complex64 to an incompatible dtype float32.  This will discard the imaginary part and may not be what you intended.\n"
     ]
    },
    {
     "name": "stderr",
     "output_type": "stream",
     "text": [
      "WARNING:tensorflow:You are casting an input of type complex64 to an incompatible dtype float32.  This will discard the imaginary part and may not be what you intended.\n"
     ]
    },
    {
     "name": "stdout",
     "output_type": "stream",
     "text": [
      "WARNING:tensorflow:You are casting an input of type complex64 to an incompatible dtype float32.  This will discard the imaginary part and may not be what you intended.\n"
     ]
    },
    {
     "name": "stderr",
     "output_type": "stream",
     "text": [
      "WARNING:tensorflow:You are casting an input of type complex64 to an incompatible dtype float32.  This will discard the imaginary part and may not be what you intended.\n"
     ]
    },
    {
     "name": "stdout",
     "output_type": "stream",
     "text": [
      "WARNING:tensorflow:You are casting an input of type complex64 to an incompatible dtype float32.  This will discard the imaginary part and may not be what you intended.\n"
     ]
    },
    {
     "name": "stderr",
     "output_type": "stream",
     "text": [
      "WARNING:tensorflow:You are casting an input of type complex64 to an incompatible dtype float32.  This will discard the imaginary part and may not be what you intended.\n"
     ]
    },
    {
     "name": "stdout",
     "output_type": "stream",
     "text": [
      "WARNING:tensorflow:You are casting an input of type complex64 to an incompatible dtype float32.  This will discard the imaginary part and may not be what you intended.\n"
     ]
    },
    {
     "name": "stderr",
     "output_type": "stream",
     "text": [
      "WARNING:tensorflow:You are casting an input of type complex64 to an incompatible dtype float32.  This will discard the imaginary part and may not be what you intended.\n"
     ]
    },
    {
     "name": "stdout",
     "output_type": "stream",
     "text": [
      "WARNING:tensorflow:You are casting an input of type complex64 to an incompatible dtype float32.  This will discard the imaginary part and may not be what you intended.\n"
     ]
    },
    {
     "name": "stderr",
     "output_type": "stream",
     "text": [
      "WARNING:tensorflow:You are casting an input of type complex64 to an incompatible dtype float32.  This will discard the imaginary part and may not be what you intended.\n"
     ]
    },
    {
     "name": "stdout",
     "output_type": "stream",
     "text": [
      "WARNING:tensorflow:You are casting an input of type complex64 to an incompatible dtype float32.  This will discard the imaginary part and may not be what you intended.\n"
     ]
    },
    {
     "name": "stderr",
     "output_type": "stream",
     "text": [
      "WARNING:tensorflow:You are casting an input of type complex64 to an incompatible dtype float32.  This will discard the imaginary part and may not be what you intended.\n"
     ]
    },
    {
     "name": "stdout",
     "output_type": "stream",
     "text": [
      "WARNING:tensorflow:You are casting an input of type complex64 to an incompatible dtype float32.  This will discard the imaginary part and may not be what you intended.\n"
     ]
    },
    {
     "name": "stderr",
     "output_type": "stream",
     "text": [
      "WARNING:tensorflow:You are casting an input of type complex64 to an incompatible dtype float32.  This will discard the imaginary part and may not be what you intended.\n"
     ]
    },
    {
     "name": "stdout",
     "output_type": "stream",
     "text": [
      "WARNING:tensorflow:You are casting an input of type complex64 to an incompatible dtype float32.  This will discard the imaginary part and may not be what you intended.\n"
     ]
    },
    {
     "name": "stderr",
     "output_type": "stream",
     "text": [
      "WARNING:tensorflow:You are casting an input of type complex64 to an incompatible dtype float32.  This will discard the imaginary part and may not be what you intended.\n"
     ]
    },
    {
     "name": "stdout",
     "output_type": "stream",
     "text": [
      "WARNING:tensorflow:You are casting an input of type complex64 to an incompatible dtype float32.  This will discard the imaginary part and may not be what you intended.\n"
     ]
    },
    {
     "name": "stderr",
     "output_type": "stream",
     "text": [
      "WARNING:tensorflow:You are casting an input of type complex64 to an incompatible dtype float32.  This will discard the imaginary part and may not be what you intended.\n"
     ]
    },
    {
     "name": "stdout",
     "output_type": "stream",
     "text": [
      "WARNING:tensorflow:You are casting an input of type complex64 to an incompatible dtype float32.  This will discard the imaginary part and may not be what you intended.\n"
     ]
    },
    {
     "name": "stderr",
     "output_type": "stream",
     "text": [
      "WARNING:tensorflow:You are casting an input of type complex64 to an incompatible dtype float32.  This will discard the imaginary part and may not be what you intended.\n"
     ]
    },
    {
     "name": "stdout",
     "output_type": "stream",
     "text": [
      "WARNING:tensorflow:You are casting an input of type complex64 to an incompatible dtype float32.  This will discard the imaginary part and may not be what you intended.\n"
     ]
    },
    {
     "name": "stderr",
     "output_type": "stream",
     "text": [
      "WARNING:tensorflow:You are casting an input of type complex64 to an incompatible dtype float32.  This will discard the imaginary part and may not be what you intended.\n"
     ]
    },
    {
     "name": "stdout",
     "output_type": "stream",
     "text": [
      "WARNING:tensorflow:You are casting an input of type complex64 to an incompatible dtype float32.  This will discard the imaginary part and may not be what you intended.\n"
     ]
    },
    {
     "name": "stderr",
     "output_type": "stream",
     "text": [
      "WARNING:tensorflow:You are casting an input of type complex64 to an incompatible dtype float32.  This will discard the imaginary part and may not be what you intended.\n"
     ]
    },
    {
     "name": "stdout",
     "output_type": "stream",
     "text": [
      "WARNING:tensorflow:You are casting an input of type complex64 to an incompatible dtype float32.  This will discard the imaginary part and may not be what you intended.\n"
     ]
    },
    {
     "name": "stderr",
     "output_type": "stream",
     "text": [
      "WARNING:tensorflow:You are casting an input of type complex64 to an incompatible dtype float32.  This will discard the imaginary part and may not be what you intended.\n"
     ]
    },
    {
     "name": "stdout",
     "output_type": "stream",
     "text": [
      "WARNING:tensorflow:You are casting an input of type complex64 to an incompatible dtype float32.  This will discard the imaginary part and may not be what you intended.\n"
     ]
    },
    {
     "name": "stderr",
     "output_type": "stream",
     "text": [
      "WARNING:tensorflow:You are casting an input of type complex64 to an incompatible dtype float32.  This will discard the imaginary part and may not be what you intended.\n"
     ]
    },
    {
     "name": "stdout",
     "output_type": "stream",
     "text": [
      "WARNING:tensorflow:You are casting an input of type complex64 to an incompatible dtype float32.  This will discard the imaginary part and may not be what you intended.\n"
     ]
    },
    {
     "name": "stderr",
     "output_type": "stream",
     "text": [
      "WARNING:tensorflow:You are casting an input of type complex64 to an incompatible dtype float32.  This will discard the imaginary part and may not be what you intended.\n"
     ]
    },
    {
     "name": "stdout",
     "output_type": "stream",
     "text": [
      "WARNING:tensorflow:You are casting an input of type complex64 to an incompatible dtype float32.  This will discard the imaginary part and may not be what you intended.\n"
     ]
    },
    {
     "name": "stderr",
     "output_type": "stream",
     "text": [
      "WARNING:tensorflow:You are casting an input of type complex64 to an incompatible dtype float32.  This will discard the imaginary part and may not be what you intended.\n"
     ]
    },
    {
     "name": "stdout",
     "output_type": "stream",
     "text": [
      "WARNING:tensorflow:You are casting an input of type complex64 to an incompatible dtype float32.  This will discard the imaginary part and may not be what you intended.\n"
     ]
    },
    {
     "name": "stderr",
     "output_type": "stream",
     "text": [
      "WARNING:tensorflow:You are casting an input of type complex64 to an incompatible dtype float32.  This will discard the imaginary part and may not be what you intended.\n"
     ]
    },
    {
     "name": "stdout",
     "output_type": "stream",
     "text": [
      "WARNING:tensorflow:You are casting an input of type complex64 to an incompatible dtype float32.  This will discard the imaginary part and may not be what you intended.\n"
     ]
    },
    {
     "name": "stderr",
     "output_type": "stream",
     "text": [
      "WARNING:tensorflow:You are casting an input of type complex64 to an incompatible dtype float32.  This will discard the imaginary part and may not be what you intended.\n"
     ]
    },
    {
     "name": "stdout",
     "output_type": "stream",
     "text": [
      "WARNING:tensorflow:You are casting an input of type complex64 to an incompatible dtype float32.  This will discard the imaginary part and may not be what you intended.\n"
     ]
    },
    {
     "name": "stderr",
     "output_type": "stream",
     "text": [
      "WARNING:tensorflow:You are casting an input of type complex64 to an incompatible dtype float32.  This will discard the imaginary part and may not be what you intended.\n"
     ]
    },
    {
     "name": "stdout",
     "output_type": "stream",
     "text": [
      "WARNING:tensorflow:You are casting an input of type complex64 to an incompatible dtype float32.  This will discard the imaginary part and may not be what you intended.\n"
     ]
    },
    {
     "name": "stderr",
     "output_type": "stream",
     "text": [
      "WARNING:tensorflow:You are casting an input of type complex64 to an incompatible dtype float32.  This will discard the imaginary part and may not be what you intended.\n"
     ]
    },
    {
     "name": "stdout",
     "output_type": "stream",
     "text": [
      "WARNING:tensorflow:You are casting an input of type complex64 to an incompatible dtype float32.  This will discard the imaginary part and may not be what you intended.\n"
     ]
    },
    {
     "name": "stderr",
     "output_type": "stream",
     "text": [
      "WARNING:tensorflow:You are casting an input of type complex64 to an incompatible dtype float32.  This will discard the imaginary part and may not be what you intended.\n"
     ]
    },
    {
     "name": "stdout",
     "output_type": "stream",
     "text": [
      "WARNING:tensorflow:You are casting an input of type complex64 to an incompatible dtype float32.  This will discard the imaginary part and may not be what you intended.\n"
     ]
    },
    {
     "name": "stderr",
     "output_type": "stream",
     "text": [
      "WARNING:tensorflow:You are casting an input of type complex64 to an incompatible dtype float32.  This will discard the imaginary part and may not be what you intended.\n"
     ]
    },
    {
     "name": "stdout",
     "output_type": "stream",
     "text": [
      "WARNING:tensorflow:You are casting an input of type complex64 to an incompatible dtype float32.  This will discard the imaginary part and may not be what you intended.\n"
     ]
    },
    {
     "name": "stderr",
     "output_type": "stream",
     "text": [
      "WARNING:tensorflow:You are casting an input of type complex64 to an incompatible dtype float32.  This will discard the imaginary part and may not be what you intended.\n"
     ]
    },
    {
     "name": "stdout",
     "output_type": "stream",
     "text": [
      "WARNING:tensorflow:You are casting an input of type complex64 to an incompatible dtype float32.  This will discard the imaginary part and may not be what you intended.\n"
     ]
    },
    {
     "name": "stderr",
     "output_type": "stream",
     "text": [
      "WARNING:tensorflow:You are casting an input of type complex64 to an incompatible dtype float32.  This will discard the imaginary part and may not be what you intended.\n"
     ]
    },
    {
     "name": "stdout",
     "output_type": "stream",
     "text": [
      "WARNING:tensorflow:You are casting an input of type complex64 to an incompatible dtype float32.  This will discard the imaginary part and may not be what you intended.\n"
     ]
    },
    {
     "name": "stderr",
     "output_type": "stream",
     "text": [
      "WARNING:tensorflow:You are casting an input of type complex64 to an incompatible dtype float32.  This will discard the imaginary part and may not be what you intended.\n"
     ]
    },
    {
     "name": "stdout",
     "output_type": "stream",
     "text": [
      "WARNING:tensorflow:You are casting an input of type complex64 to an incompatible dtype float32.  This will discard the imaginary part and may not be what you intended.\n"
     ]
    },
    {
     "name": "stderr",
     "output_type": "stream",
     "text": [
      "WARNING:tensorflow:You are casting an input of type complex64 to an incompatible dtype float32.  This will discard the imaginary part and may not be what you intended.\n"
     ]
    },
    {
     "name": "stdout",
     "output_type": "stream",
     "text": [
      "WARNING:tensorflow:You are casting an input of type complex64 to an incompatible dtype float32.  This will discard the imaginary part and may not be what you intended.\n"
     ]
    },
    {
     "name": "stderr",
     "output_type": "stream",
     "text": [
      "WARNING:tensorflow:You are casting an input of type complex64 to an incompatible dtype float32.  This will discard the imaginary part and may not be what you intended.\n"
     ]
    },
    {
     "name": "stdout",
     "output_type": "stream",
     "text": [
      "WARNING:tensorflow:You are casting an input of type complex64 to an incompatible dtype float32.  This will discard the imaginary part and may not be what you intended.\n"
     ]
    },
    {
     "name": "stderr",
     "output_type": "stream",
     "text": [
      "WARNING:tensorflow:You are casting an input of type complex64 to an incompatible dtype float32.  This will discard the imaginary part and may not be what you intended.\n"
     ]
    },
    {
     "name": "stdout",
     "output_type": "stream",
     "text": [
      "WARNING:tensorflow:You are casting an input of type complex64 to an incompatible dtype float32.  This will discard the imaginary part and may not be what you intended.\n"
     ]
    },
    {
     "name": "stderr",
     "output_type": "stream",
     "text": [
      "WARNING:tensorflow:You are casting an input of type complex64 to an incompatible dtype float32.  This will discard the imaginary part and may not be what you intended.\n"
     ]
    },
    {
     "name": "stdout",
     "output_type": "stream",
     "text": [
      "WARNING:tensorflow:You are casting an input of type complex64 to an incompatible dtype float32.  This will discard the imaginary part and may not be what you intended.\n"
     ]
    },
    {
     "name": "stderr",
     "output_type": "stream",
     "text": [
      "WARNING:tensorflow:You are casting an input of type complex64 to an incompatible dtype float32.  This will discard the imaginary part and may not be what you intended.\n"
     ]
    },
    {
     "name": "stdout",
     "output_type": "stream",
     "text": [
      "WARNING:tensorflow:You are casting an input of type complex64 to an incompatible dtype float32.  This will discard the imaginary part and may not be what you intended.\n"
     ]
    },
    {
     "name": "stderr",
     "output_type": "stream",
     "text": [
      "WARNING:tensorflow:You are casting an input of type complex64 to an incompatible dtype float32.  This will discard the imaginary part and may not be what you intended.\n"
     ]
    },
    {
     "name": "stdout",
     "output_type": "stream",
     "text": [
      "WARNING:tensorflow:You are casting an input of type complex64 to an incompatible dtype float32.  This will discard the imaginary part and may not be what you intended.\n"
     ]
    },
    {
     "name": "stderr",
     "output_type": "stream",
     "text": [
      "WARNING:tensorflow:You are casting an input of type complex64 to an incompatible dtype float32.  This will discard the imaginary part and may not be what you intended.\n"
     ]
    },
    {
     "name": "stdout",
     "output_type": "stream",
     "text": [
      "WARNING:tensorflow:You are casting an input of type complex64 to an incompatible dtype float32.  This will discard the imaginary part and may not be what you intended.\n"
     ]
    },
    {
     "name": "stderr",
     "output_type": "stream",
     "text": [
      "WARNING:tensorflow:You are casting an input of type complex64 to an incompatible dtype float32.  This will discard the imaginary part and may not be what you intended.\n"
     ]
    },
    {
     "name": "stdout",
     "output_type": "stream",
     "text": [
      "WARNING:tensorflow:You are casting an input of type complex64 to an incompatible dtype float32.  This will discard the imaginary part and may not be what you intended.\n"
     ]
    },
    {
     "name": "stderr",
     "output_type": "stream",
     "text": [
      "WARNING:tensorflow:You are casting an input of type complex64 to an incompatible dtype float32.  This will discard the imaginary part and may not be what you intended.\n"
     ]
    },
    {
     "name": "stdout",
     "output_type": "stream",
     "text": [
      "WARNING:tensorflow:You are casting an input of type complex64 to an incompatible dtype float32.  This will discard the imaginary part and may not be what you intended.\n"
     ]
    },
    {
     "name": "stderr",
     "output_type": "stream",
     "text": [
      "WARNING:tensorflow:You are casting an input of type complex64 to an incompatible dtype float32.  This will discard the imaginary part and may not be what you intended.\n"
     ]
    },
    {
     "name": "stdout",
     "output_type": "stream",
     "text": [
      "WARNING:tensorflow:You are casting an input of type complex64 to an incompatible dtype float32.  This will discard the imaginary part and may not be what you intended.\n"
     ]
    },
    {
     "name": "stderr",
     "output_type": "stream",
     "text": [
      "WARNING:tensorflow:You are casting an input of type complex64 to an incompatible dtype float32.  This will discard the imaginary part and may not be what you intended.\n"
     ]
    },
    {
     "name": "stdout",
     "output_type": "stream",
     "text": [
      "WARNING:tensorflow:You are casting an input of type complex64 to an incompatible dtype float32.  This will discard the imaginary part and may not be what you intended.\n"
     ]
    },
    {
     "name": "stderr",
     "output_type": "stream",
     "text": [
      "WARNING:tensorflow:You are casting an input of type complex64 to an incompatible dtype float32.  This will discard the imaginary part and may not be what you intended.\n"
     ]
    },
    {
     "name": "stdout",
     "output_type": "stream",
     "text": [
      "WARNING:tensorflow:You are casting an input of type complex64 to an incompatible dtype float32.  This will discard the imaginary part and may not be what you intended.\n"
     ]
    },
    {
     "name": "stderr",
     "output_type": "stream",
     "text": [
      "WARNING:tensorflow:You are casting an input of type complex64 to an incompatible dtype float32.  This will discard the imaginary part and may not be what you intended.\n"
     ]
    },
    {
     "name": "stdout",
     "output_type": "stream",
     "text": [
      "WARNING:tensorflow:You are casting an input of type complex64 to an incompatible dtype float32.  This will discard the imaginary part and may not be what you intended.\n"
     ]
    },
    {
     "name": "stderr",
     "output_type": "stream",
     "text": [
      "WARNING:tensorflow:You are casting an input of type complex64 to an incompatible dtype float32.  This will discard the imaginary part and may not be what you intended.\n"
     ]
    },
    {
     "name": "stdout",
     "output_type": "stream",
     "text": [
      "WARNING:tensorflow:You are casting an input of type complex64 to an incompatible dtype float32.  This will discard the imaginary part and may not be what you intended.\n"
     ]
    },
    {
     "name": "stderr",
     "output_type": "stream",
     "text": [
      "WARNING:tensorflow:You are casting an input of type complex64 to an incompatible dtype float32.  This will discard the imaginary part and may not be what you intended.\n"
     ]
    },
    {
     "name": "stdout",
     "output_type": "stream",
     "text": [
      "WARNING:tensorflow:You are casting an input of type complex64 to an incompatible dtype float32.  This will discard the imaginary part and may not be what you intended.\n"
     ]
    },
    {
     "name": "stderr",
     "output_type": "stream",
     "text": [
      "WARNING:tensorflow:You are casting an input of type complex64 to an incompatible dtype float32.  This will discard the imaginary part and may not be what you intended.\n"
     ]
    },
    {
     "name": "stdout",
     "output_type": "stream",
     "text": [
      "WARNING:tensorflow:You are casting an input of type complex64 to an incompatible dtype float32.  This will discard the imaginary part and may not be what you intended.\n"
     ]
    },
    {
     "name": "stderr",
     "output_type": "stream",
     "text": [
      "WARNING:tensorflow:You are casting an input of type complex64 to an incompatible dtype float32.  This will discard the imaginary part and may not be what you intended.\n"
     ]
    },
    {
     "name": "stdout",
     "output_type": "stream",
     "text": [
      "WARNING:tensorflow:You are casting an input of type complex64 to an incompatible dtype float32.  This will discard the imaginary part and may not be what you intended.\n"
     ]
    },
    {
     "name": "stderr",
     "output_type": "stream",
     "text": [
      "WARNING:tensorflow:You are casting an input of type complex64 to an incompatible dtype float32.  This will discard the imaginary part and may not be what you intended.\n"
     ]
    },
    {
     "name": "stdout",
     "output_type": "stream",
     "text": [
      "WARNING:tensorflow:You are casting an input of type complex64 to an incompatible dtype float32.  This will discard the imaginary part and may not be what you intended.\n"
     ]
    },
    {
     "name": "stderr",
     "output_type": "stream",
     "text": [
      "WARNING:tensorflow:You are casting an input of type complex64 to an incompatible dtype float32.  This will discard the imaginary part and may not be what you intended.\n"
     ]
    },
    {
     "name": "stdout",
     "output_type": "stream",
     "text": [
      "WARNING:tensorflow:You are casting an input of type complex64 to an incompatible dtype float32.  This will discard the imaginary part and may not be what you intended.\n"
     ]
    },
    {
     "name": "stderr",
     "output_type": "stream",
     "text": [
      "WARNING:tensorflow:You are casting an input of type complex64 to an incompatible dtype float32.  This will discard the imaginary part and may not be what you intended.\n"
     ]
    },
    {
     "name": "stdout",
     "output_type": "stream",
     "text": [
      "WARNING:tensorflow:You are casting an input of type complex64 to an incompatible dtype float32.  This will discard the imaginary part and may not be what you intended.\n"
     ]
    },
    {
     "name": "stderr",
     "output_type": "stream",
     "text": [
      "WARNING:tensorflow:You are casting an input of type complex64 to an incompatible dtype float32.  This will discard the imaginary part and may not be what you intended.\n"
     ]
    },
    {
     "name": "stdout",
     "output_type": "stream",
     "text": [
      "WARNING:tensorflow:You are casting an input of type complex64 to an incompatible dtype float32.  This will discard the imaginary part and may not be what you intended.\n"
     ]
    },
    {
     "name": "stderr",
     "output_type": "stream",
     "text": [
      "WARNING:tensorflow:You are casting an input of type complex64 to an incompatible dtype float32.  This will discard the imaginary part and may not be what you intended.\n"
     ]
    },
    {
     "name": "stdout",
     "output_type": "stream",
     "text": [
      " 350/1562 [=====>........................] - ETA: 9:45:49 - loss: 6.5051 - categorical_accuracy: 0.3201"
     ]
    },
    {
     "ename": "KeyboardInterrupt",
     "evalue": "",
     "output_type": "error",
     "traceback": [
      "\u001b[1;31m---------------------------------------------------------------------------\u001b[0m",
      "\u001b[1;31mKeyboardInterrupt\u001b[0m                         Traceback (most recent call last)",
      "\u001b[1;32mC:\\Users\\ANDRAA~1\\AppData\\Local\\Temp/ipykernel_16156/3839448558.py\u001b[0m in \u001b[0;36m<module>\u001b[1;34m\u001b[0m\n\u001b[0;32m      1\u001b[0m \u001b[0mworkdir\u001b[0m \u001b[1;33m=\u001b[0m \u001b[1;34m\"./\"\u001b[0m\u001b[1;33m\u001b[0m\u001b[1;33m\u001b[0m\u001b[0m\n\u001b[1;32m----> 2\u001b[1;33m \u001b[0mmodel\u001b[0m \u001b[1;33m=\u001b[0m \u001b[0mtrain\u001b[0m\u001b[1;33m(\u001b[0m\u001b[0mload_datasets\u001b[0m\u001b[1;33m,\u001b[0m\u001b[0mresnet18\u001b[0m\u001b[1;33m,\u001b[0m\u001b[0mopt\u001b[0m\u001b[1;33m,\u001b[0m\u001b[1;36m1\u001b[0m\u001b[1;33m,\u001b[0m\u001b[0mworkdir\u001b[0m\u001b[1;33m)\u001b[0m\u001b[1;33m\u001b[0m\u001b[1;33m\u001b[0m\u001b[0m\n\u001b[0m",
      "\u001b[1;32mC:\\Users\\ANDRAA~1\\AppData\\Local\\Temp/ipykernel_16156/2333295570.py\u001b[0m in \u001b[0;36mtrain\u001b[1;34m(load_data_fn, model_cls, optimizer_cls, num_epochs, workdir)\u001b[0m\n\u001b[0;32m     24\u001b[0m             backup_dir=os.path.join(workdir, 'backup'))\n\u001b[0;32m     25\u001b[0m     ])\n\u001b[1;32m---> 26\u001b[1;33m   model.fit(train_ds, validation_data=test_ds,\n\u001b[0m\u001b[0;32m     27\u001b[0m             epochs=num_epochs, callbacks=callbacks)\n\u001b[0;32m     28\u001b[0m   \u001b[1;32mreturn\u001b[0m \u001b[0mmodel\u001b[0m\u001b[1;33m\u001b[0m\u001b[1;33m\u001b[0m\u001b[0m\n",
      "\u001b[1;32md:\\Andaconda\\lib\\site-packages\\keras\\utils\\traceback_utils.py\u001b[0m in \u001b[0;36merror_handler\u001b[1;34m(*args, **kwargs)\u001b[0m\n\u001b[0;32m     63\u001b[0m         \u001b[0mfiltered_tb\u001b[0m \u001b[1;33m=\u001b[0m \u001b[1;32mNone\u001b[0m\u001b[1;33m\u001b[0m\u001b[1;33m\u001b[0m\u001b[0m\n\u001b[0;32m     64\u001b[0m         \u001b[1;32mtry\u001b[0m\u001b[1;33m:\u001b[0m\u001b[1;33m\u001b[0m\u001b[1;33m\u001b[0m\u001b[0m\n\u001b[1;32m---> 65\u001b[1;33m             \u001b[1;32mreturn\u001b[0m \u001b[0mfn\u001b[0m\u001b[1;33m(\u001b[0m\u001b[1;33m*\u001b[0m\u001b[0margs\u001b[0m\u001b[1;33m,\u001b[0m \u001b[1;33m**\u001b[0m\u001b[0mkwargs\u001b[0m\u001b[1;33m)\u001b[0m\u001b[1;33m\u001b[0m\u001b[1;33m\u001b[0m\u001b[0m\n\u001b[0m\u001b[0;32m     66\u001b[0m         \u001b[1;32mexcept\u001b[0m \u001b[0mException\u001b[0m \u001b[1;32mas\u001b[0m \u001b[0me\u001b[0m\u001b[1;33m:\u001b[0m\u001b[1;33m\u001b[0m\u001b[1;33m\u001b[0m\u001b[0m\n\u001b[0;32m     67\u001b[0m             \u001b[0mfiltered_tb\u001b[0m \u001b[1;33m=\u001b[0m \u001b[0m_process_traceback_frames\u001b[0m\u001b[1;33m(\u001b[0m\u001b[0me\u001b[0m\u001b[1;33m.\u001b[0m\u001b[0m__traceback__\u001b[0m\u001b[1;33m)\u001b[0m\u001b[1;33m\u001b[0m\u001b[1;33m\u001b[0m\u001b[0m\n",
      "\u001b[1;32md:\\Andaconda\\lib\\site-packages\\keras\\engine\\training.py\u001b[0m in \u001b[0;36mfit\u001b[1;34m(self, x, y, batch_size, epochs, verbose, callbacks, validation_split, validation_data, shuffle, class_weight, sample_weight, initial_epoch, steps_per_epoch, validation_steps, validation_batch_size, validation_freq, max_queue_size, workers, use_multiprocessing)\u001b[0m\n\u001b[0;32m   1683\u001b[0m                         ):\n\u001b[0;32m   1684\u001b[0m                             \u001b[0mcallbacks\u001b[0m\u001b[1;33m.\u001b[0m\u001b[0mon_train_batch_begin\u001b[0m\u001b[1;33m(\u001b[0m\u001b[0mstep\u001b[0m\u001b[1;33m)\u001b[0m\u001b[1;33m\u001b[0m\u001b[1;33m\u001b[0m\u001b[0m\n\u001b[1;32m-> 1685\u001b[1;33m                             \u001b[0mtmp_logs\u001b[0m \u001b[1;33m=\u001b[0m \u001b[0mself\u001b[0m\u001b[1;33m.\u001b[0m\u001b[0mtrain_function\u001b[0m\u001b[1;33m(\u001b[0m\u001b[0miterator\u001b[0m\u001b[1;33m)\u001b[0m\u001b[1;33m\u001b[0m\u001b[1;33m\u001b[0m\u001b[0m\n\u001b[0m\u001b[0;32m   1686\u001b[0m                             \u001b[1;32mif\u001b[0m \u001b[0mdata_handler\u001b[0m\u001b[1;33m.\u001b[0m\u001b[0mshould_sync\u001b[0m\u001b[1;33m:\u001b[0m\u001b[1;33m\u001b[0m\u001b[1;33m\u001b[0m\u001b[0m\n\u001b[0;32m   1687\u001b[0m                                 \u001b[0mcontext\u001b[0m\u001b[1;33m.\u001b[0m\u001b[0masync_wait\u001b[0m\u001b[1;33m(\u001b[0m\u001b[1;33m)\u001b[0m\u001b[1;33m\u001b[0m\u001b[1;33m\u001b[0m\u001b[0m\n",
      "\u001b[1;32md:\\Andaconda\\lib\\site-packages\\tensorflow\\python\\util\\traceback_utils.py\u001b[0m in \u001b[0;36merror_handler\u001b[1;34m(*args, **kwargs)\u001b[0m\n\u001b[0;32m    148\u001b[0m     \u001b[0mfiltered_tb\u001b[0m \u001b[1;33m=\u001b[0m \u001b[1;32mNone\u001b[0m\u001b[1;33m\u001b[0m\u001b[1;33m\u001b[0m\u001b[0m\n\u001b[0;32m    149\u001b[0m     \u001b[1;32mtry\u001b[0m\u001b[1;33m:\u001b[0m\u001b[1;33m\u001b[0m\u001b[1;33m\u001b[0m\u001b[0m\n\u001b[1;32m--> 150\u001b[1;33m       \u001b[1;32mreturn\u001b[0m \u001b[0mfn\u001b[0m\u001b[1;33m(\u001b[0m\u001b[1;33m*\u001b[0m\u001b[0margs\u001b[0m\u001b[1;33m,\u001b[0m \u001b[1;33m**\u001b[0m\u001b[0mkwargs\u001b[0m\u001b[1;33m)\u001b[0m\u001b[1;33m\u001b[0m\u001b[1;33m\u001b[0m\u001b[0m\n\u001b[0m\u001b[0;32m    151\u001b[0m     \u001b[1;32mexcept\u001b[0m \u001b[0mException\u001b[0m \u001b[1;32mas\u001b[0m \u001b[0me\u001b[0m\u001b[1;33m:\u001b[0m\u001b[1;33m\u001b[0m\u001b[1;33m\u001b[0m\u001b[0m\n\u001b[0;32m    152\u001b[0m       \u001b[0mfiltered_tb\u001b[0m \u001b[1;33m=\u001b[0m \u001b[0m_process_traceback_frames\u001b[0m\u001b[1;33m(\u001b[0m\u001b[0me\u001b[0m\u001b[1;33m.\u001b[0m\u001b[0m__traceback__\u001b[0m\u001b[1;33m)\u001b[0m\u001b[1;33m\u001b[0m\u001b[1;33m\u001b[0m\u001b[0m\n",
      "\u001b[1;32md:\\Andaconda\\lib\\site-packages\\tensorflow\\python\\eager\\polymorphic_function\\polymorphic_function.py\u001b[0m in \u001b[0;36m__call__\u001b[1;34m(self, *args, **kwds)\u001b[0m\n\u001b[0;32m    892\u001b[0m \u001b[1;33m\u001b[0m\u001b[0m\n\u001b[0;32m    893\u001b[0m       \u001b[1;32mwith\u001b[0m \u001b[0mOptionalXlaContext\u001b[0m\u001b[1;33m(\u001b[0m\u001b[0mself\u001b[0m\u001b[1;33m.\u001b[0m\u001b[0m_jit_compile\u001b[0m\u001b[1;33m)\u001b[0m\u001b[1;33m:\u001b[0m\u001b[1;33m\u001b[0m\u001b[1;33m\u001b[0m\u001b[0m\n\u001b[1;32m--> 894\u001b[1;33m         \u001b[0mresult\u001b[0m \u001b[1;33m=\u001b[0m \u001b[0mself\u001b[0m\u001b[1;33m.\u001b[0m\u001b[0m_call\u001b[0m\u001b[1;33m(\u001b[0m\u001b[1;33m*\u001b[0m\u001b[0margs\u001b[0m\u001b[1;33m,\u001b[0m \u001b[1;33m**\u001b[0m\u001b[0mkwds\u001b[0m\u001b[1;33m)\u001b[0m\u001b[1;33m\u001b[0m\u001b[1;33m\u001b[0m\u001b[0m\n\u001b[0m\u001b[0;32m    895\u001b[0m \u001b[1;33m\u001b[0m\u001b[0m\n\u001b[0;32m    896\u001b[0m       \u001b[0mnew_tracing_count\u001b[0m \u001b[1;33m=\u001b[0m \u001b[0mself\u001b[0m\u001b[1;33m.\u001b[0m\u001b[0mexperimental_get_tracing_count\u001b[0m\u001b[1;33m(\u001b[0m\u001b[1;33m)\u001b[0m\u001b[1;33m\u001b[0m\u001b[1;33m\u001b[0m\u001b[0m\n",
      "\u001b[1;32md:\\Andaconda\\lib\\site-packages\\tensorflow\\python\\eager\\polymorphic_function\\polymorphic_function.py\u001b[0m in \u001b[0;36m_call\u001b[1;34m(self, *args, **kwds)\u001b[0m\n\u001b[0;32m    924\u001b[0m       \u001b[1;31m# In this case we have created variables on the first call, so we run the\u001b[0m\u001b[1;33m\u001b[0m\u001b[1;33m\u001b[0m\u001b[0m\n\u001b[0;32m    925\u001b[0m       \u001b[1;31m# defunned version which is guaranteed to never create variables.\u001b[0m\u001b[1;33m\u001b[0m\u001b[1;33m\u001b[0m\u001b[0m\n\u001b[1;32m--> 926\u001b[1;33m       \u001b[1;32mreturn\u001b[0m \u001b[0mself\u001b[0m\u001b[1;33m.\u001b[0m\u001b[0m_no_variable_creation_fn\u001b[0m\u001b[1;33m(\u001b[0m\u001b[1;33m*\u001b[0m\u001b[0margs\u001b[0m\u001b[1;33m,\u001b[0m \u001b[1;33m**\u001b[0m\u001b[0mkwds\u001b[0m\u001b[1;33m)\u001b[0m  \u001b[1;31m# pylint: disable=not-callable\u001b[0m\u001b[1;33m\u001b[0m\u001b[1;33m\u001b[0m\u001b[0m\n\u001b[0m\u001b[0;32m    927\u001b[0m     \u001b[1;32melif\u001b[0m \u001b[0mself\u001b[0m\u001b[1;33m.\u001b[0m\u001b[0m_variable_creation_fn\u001b[0m \u001b[1;32mis\u001b[0m \u001b[1;32mnot\u001b[0m \u001b[1;32mNone\u001b[0m\u001b[1;33m:\u001b[0m\u001b[1;33m\u001b[0m\u001b[1;33m\u001b[0m\u001b[0m\n\u001b[0;32m    928\u001b[0m       \u001b[1;31m# Release the lock early so that multiple threads can perform the call\u001b[0m\u001b[1;33m\u001b[0m\u001b[1;33m\u001b[0m\u001b[0m\n",
      "\u001b[1;32md:\\Andaconda\\lib\\site-packages\\tensorflow\\python\\eager\\polymorphic_function\\tracing_compiler.py\u001b[0m in \u001b[0;36m__call__\u001b[1;34m(self, *args, **kwargs)\u001b[0m\n\u001b[0;32m    141\u001b[0m       (concrete_function,\n\u001b[0;32m    142\u001b[0m        filtered_flat_args) = self._maybe_define_function(args, kwargs)\n\u001b[1;32m--> 143\u001b[1;33m     return concrete_function._call_flat(\n\u001b[0m\u001b[0;32m    144\u001b[0m         filtered_flat_args, captured_inputs=concrete_function.captured_inputs)  # pylint: disable=protected-access\n\u001b[0;32m    145\u001b[0m \u001b[1;33m\u001b[0m\u001b[0m\n",
      "\u001b[1;32md:\\Andaconda\\lib\\site-packages\\tensorflow\\python\\eager\\polymorphic_function\\monomorphic_function.py\u001b[0m in \u001b[0;36m_call_flat\u001b[1;34m(self, args, captured_inputs, cancellation_manager)\u001b[0m\n\u001b[0;32m   1755\u001b[0m         and executing_eagerly):\n\u001b[0;32m   1756\u001b[0m       \u001b[1;31m# No tape is watching; skip to running the function.\u001b[0m\u001b[1;33m\u001b[0m\u001b[1;33m\u001b[0m\u001b[0m\n\u001b[1;32m-> 1757\u001b[1;33m       return self._build_call_outputs(self._inference_function.call(\n\u001b[0m\u001b[0;32m   1758\u001b[0m           ctx, args, cancellation_manager=cancellation_manager))\n\u001b[0;32m   1759\u001b[0m     forward_backward = self._select_forward_and_backward_functions(\n",
      "\u001b[1;32md:\\Andaconda\\lib\\site-packages\\tensorflow\\python\\eager\\polymorphic_function\\monomorphic_function.py\u001b[0m in \u001b[0;36mcall\u001b[1;34m(self, ctx, args, cancellation_manager)\u001b[0m\n\u001b[0;32m    379\u001b[0m       \u001b[1;32mwith\u001b[0m \u001b[0m_InterpolateFunctionError\u001b[0m\u001b[1;33m(\u001b[0m\u001b[0mself\u001b[0m\u001b[1;33m)\u001b[0m\u001b[1;33m:\u001b[0m\u001b[1;33m\u001b[0m\u001b[1;33m\u001b[0m\u001b[0m\n\u001b[0;32m    380\u001b[0m         \u001b[1;32mif\u001b[0m \u001b[0mcancellation_manager\u001b[0m \u001b[1;32mis\u001b[0m \u001b[1;32mNone\u001b[0m\u001b[1;33m:\u001b[0m\u001b[1;33m\u001b[0m\u001b[1;33m\u001b[0m\u001b[0m\n\u001b[1;32m--> 381\u001b[1;33m           outputs = execute.execute(\n\u001b[0m\u001b[0;32m    382\u001b[0m               \u001b[0mstr\u001b[0m\u001b[1;33m(\u001b[0m\u001b[0mself\u001b[0m\u001b[1;33m.\u001b[0m\u001b[0msignature\u001b[0m\u001b[1;33m.\u001b[0m\u001b[0mname\u001b[0m\u001b[1;33m)\u001b[0m\u001b[1;33m,\u001b[0m\u001b[1;33m\u001b[0m\u001b[1;33m\u001b[0m\u001b[0m\n\u001b[0;32m    383\u001b[0m               \u001b[0mnum_outputs\u001b[0m\u001b[1;33m=\u001b[0m\u001b[0mself\u001b[0m\u001b[1;33m.\u001b[0m\u001b[0m_num_outputs\u001b[0m\u001b[1;33m,\u001b[0m\u001b[1;33m\u001b[0m\u001b[1;33m\u001b[0m\u001b[0m\n",
      "\u001b[1;32md:\\Andaconda\\lib\\site-packages\\tensorflow\\python\\eager\\execute.py\u001b[0m in \u001b[0;36mquick_execute\u001b[1;34m(op_name, num_outputs, inputs, attrs, ctx, name)\u001b[0m\n\u001b[0;32m     50\u001b[0m   \u001b[1;32mtry\u001b[0m\u001b[1;33m:\u001b[0m\u001b[1;33m\u001b[0m\u001b[1;33m\u001b[0m\u001b[0m\n\u001b[0;32m     51\u001b[0m     \u001b[0mctx\u001b[0m\u001b[1;33m.\u001b[0m\u001b[0mensure_initialized\u001b[0m\u001b[1;33m(\u001b[0m\u001b[1;33m)\u001b[0m\u001b[1;33m\u001b[0m\u001b[1;33m\u001b[0m\u001b[0m\n\u001b[1;32m---> 52\u001b[1;33m     tensors = pywrap_tfe.TFE_Py_Execute(ctx._handle, device_name, op_name,\n\u001b[0m\u001b[0;32m     53\u001b[0m                                         inputs, attrs, num_outputs)\n\u001b[0;32m     54\u001b[0m   \u001b[1;32mexcept\u001b[0m \u001b[0mcore\u001b[0m\u001b[1;33m.\u001b[0m\u001b[0m_NotOkStatusException\u001b[0m \u001b[1;32mas\u001b[0m \u001b[0me\u001b[0m\u001b[1;33m:\u001b[0m\u001b[1;33m\u001b[0m\u001b[1;33m\u001b[0m\u001b[0m\n",
      "\u001b[1;31mKeyboardInterrupt\u001b[0m: "
     ]
    }
   ],
   "source": [
    "workdir = \"./\"\n",
    "model = train(load_datasets,resnet18,opt,1,workdir)"
   ]
  }
 ],
 "metadata": {
  "kernelspec": {
   "display_name": "base",
   "language": "python",
   "name": "python3"
  },
  "language_info": {
   "codemirror_mode": {
    "name": "ipython",
    "version": 3
   },
   "file_extension": ".py",
   "mimetype": "text/x-python",
   "name": "python",
   "nbconvert_exporter": "python",
   "pygments_lexer": "ipython3",
   "version": "3.9.7"
  },
  "orig_nbformat": 4
 },
 "nbformat": 4,
 "nbformat_minor": 2
}
